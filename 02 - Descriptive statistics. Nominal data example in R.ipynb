{
 "cells": [
  {
   "cell_type": "markdown",
   "metadata": {},
   "source": [
    "# Descriptive statistics in R. Example 2\n",
    "## Nominal data example\n",
    "**Task 5.** \"Multitabs\". In studies on the use of the complex of vitamins and minerals \"Multitabs\" for the prevention of influenza, the main group taking the drug \"Multitabs\" was 160 adults. The control group (not taking the drug) included 100 people. The incidence analysis of the influenza during the epidemic showed 5 people got sick in the main group, 9 - in the control group. Calculate the proportions and confidence interval of the samples propotions.\n",
    "\n",
    "### 1.\tDetermine the variable type\n",
    "Because the variable’s value spectrum is finite it’s nominal type of data.\n",
    "### 2.\tInput the data in R.\n",
    "Prepare the data in CSV (comma-separated value) format to become a matrix. Use the `read.csv` function"
   ]
  },
  {
   "cell_type": "code",
   "execution_count": 1,
   "metadata": {},
   "outputs": [
    {
     "data": {
      "text/html": [
       "<table>\n",
       "<thead><tr><th></th><th scope=col>Main.Group</th><th scope=col>Control.Group</th></tr></thead>\n",
       "<tbody>\n",
       "\t<tr><th scope=row>         Disease</th><td>  5</td><td> 9 </td></tr>\n",
       "\t<tr><th scope=row>         Healthy</th><td>155</td><td>91 </td></tr>\n",
       "</tbody>\n",
       "</table>\n"
      ],
      "text/latex": [
       "\\begin{tabular}{r|ll}\n",
       "  & Main.Group & Control.Group\\\\\n",
       "\\hline\n",
       "\t         Disease &   5 &  9 \\\\\n",
       "\t         Healthy & 155 & 91 \\\\\n",
       "\\end{tabular}\n"
      ],
      "text/markdown": [
       "\n",
       "| <!--/--> | Main.Group | Control.Group |\n",
       "|---|---|---|\n",
       "|          Disease |   5 |  9  |\n",
       "|          Healthy | 155 | 91  |\n",
       "\n"
      ],
      "text/plain": [
       "                 Main.Group Control.Group\n",
       "         Disease   5         9           \n",
       "         Healthy 155        91           "
      ]
     },
     "metadata": {},
     "output_type": "display_data"
    }
   ],
   "source": [
    "Input = (\"\n",
    "         Case, Main Group, Control Group\n",
    "         Disease, 5, 9\n",
    "         Healthy, 155, 91\"\n",
    "        )\n",
    "Data = as.data.frame(read.csv(textConnection(Input), header = TRUE, row.names = 1))\n",
    "Data"
   ]
  },
  {
   "cell_type": "markdown",
   "metadata": {},
   "source": [
    "### 2.\tCalculate the proportions\n",
    "To get the proportions for the groups in `Data` one has to convert `Data` into a matrix and use it as an argument in a `prop.table` function with additional argument `margin = 2`. Setting `margin` to 2 tells function to calculate proportions relative to the sum of columns in the source matrix which translates in cases count for each group."
   ]
  },
  {
   "cell_type": "code",
   "execution_count": 2,
   "metadata": {},
   "outputs": [
    {
     "data": {
      "text/html": [
       "<table>\n",
       "<thead><tr><th></th><th scope=col>Main.Group</th><th scope=col>Control.Group</th></tr></thead>\n",
       "<tbody>\n",
       "\t<tr><th scope=row>         Disease</th><td>0.03125</td><td>0.09   </td></tr>\n",
       "\t<tr><th scope=row>         Healthy</th><td>0.96875</td><td>0.91   </td></tr>\n",
       "</tbody>\n",
       "</table>\n"
      ],
      "text/latex": [
       "\\begin{tabular}{r|ll}\n",
       "  & Main.Group & Control.Group\\\\\n",
       "\\hline\n",
       "\t         Disease & 0.03125 & 0.09   \\\\\n",
       "\t         Healthy & 0.96875 & 0.91   \\\\\n",
       "\\end{tabular}\n"
      ],
      "text/markdown": [
       "\n",
       "| <!--/--> | Main.Group | Control.Group |\n",
       "|---|---|---|\n",
       "|          Disease | 0.03125 | 0.09    |\n",
       "|          Healthy | 0.96875 | 0.91    |\n",
       "\n"
      ],
      "text/plain": [
       "                 Main.Group Control.Group\n",
       "         Disease 0.03125    0.09         \n",
       "         Healthy 0.96875    0.91         "
      ]
     },
     "metadata": {},
     "output_type": "display_data"
    }
   ],
   "source": [
    "Data.prop = prop.table(as.matrix(Data), margin = 2)\n",
    "Data.prop"
   ]
  },
  {
   "cell_type": "markdown",
   "metadata": {},
   "source": [
    "### 3.\tCalculate Confidence Intervals for the proportions\n",
    "For the confidence intervals one has to perform one-sample `binom.test` function on each of the groups."
   ]
  },
  {
   "cell_type": "code",
   "execution_count": 3,
   "metadata": {},
   "outputs": [
    {
     "data": {
      "text/plain": [
       "\n",
       "\tExact binomial test\n",
       "\n",
       "data:  Data$Main.Group[1] and sum(Data$Main.Group)\n",
       "number of successes = 5, number of trials = 160, p-value < 2.2e-16\n",
       "alternative hypothesis: true probability of success is not equal to 0.5\n",
       "95 percent confidence interval:\n",
       " 0.01022314 0.07141770\n",
       "sample estimates:\n",
       "probability of success \n",
       "               0.03125 \n"
      ]
     },
     "metadata": {},
     "output_type": "display_data"
    }
   ],
   "source": [
    "mg_summary = binom.test(Data$Main.Group[1], sum(Data$Main.Group))\n",
    "mg_summary"
   ]
  },
  {
   "cell_type": "code",
   "execution_count": 4,
   "metadata": {},
   "outputs": [
    {
     "data": {
      "text/plain": [
       "\n",
       "\tExact binomial test\n",
       "\n",
       "data:  Data$Control.Group[1] and sum(Data$Control.Group)\n",
       "number of successes = 9, number of trials = 100, p-value < 2.2e-16\n",
       "alternative hypothesis: true probability of success is not equal to 0.5\n",
       "95 percent confidence interval:\n",
       " 0.0419836 0.1639823\n",
       "sample estimates:\n",
       "probability of success \n",
       "                  0.09 \n"
      ]
     },
     "metadata": {},
     "output_type": "display_data"
    }
   ],
   "source": [
    "cg_summary = binom.test(Data$Control.Group[1], sum(Data$Control.Group))\n",
    "cg_summary"
   ]
  },
  {
   "cell_type": "markdown",
   "metadata": {},
   "source": [
    "### 4.\tGathering the results\n",
    "Let’s gather the results we’ve obtained on the previous steps in single place. We’ll construct two lists with the `Proportion`, `lwr.CI`, `upr.CI` values corresponding to the *proportion* value, *lower confidence interval bound*, *upper confidence interval bound*."
   ]
  },
  {
   "cell_type": "code",
   "execution_count": 5,
   "metadata": {},
   "outputs": [],
   "source": [
    "cg_summary = list(Proportion = cg_summary$estimate, \n",
    "                  lwr.CI = cg_summary$conf.int[1], \n",
    "                  upr.CI = cg_summary$conf.int[2])\n",
    "mg_summary = list(Proportion = mg_summary$estimate, \n",
    "                  lwr.CI = mg_summary$conf.int[1], \n",
    "                  upr.CI = mg_summary$conf.int[2])"
   ]
  },
  {
   "cell_type": "markdown",
   "metadata": {},
   "source": [
    "Final data is being constructed by column combine of both control group and main group lists via `cbind` function."
   ]
  },
  {
   "cell_type": "code",
   "execution_count": 6,
   "metadata": {},
   "outputs": [
    {
     "data": {
      "text/html": [
       "<table>\n",
       "<thead><tr><th></th><th scope=col>Control.Group</th><th scope=col>Main.Group</th></tr></thead>\n",
       "<tbody>\n",
       "\t<tr><th scope=row>Proportion</th><td>0.09   </td><td>0.03125</td></tr>\n",
       "\t<tr><th scope=row>lwr.CI</th><td>0.0419836 </td><td>0.01022314</td></tr>\n",
       "\t<tr><th scope=row>upr.CI</th><td>0.1639823</td><td>0.0714177</td></tr>\n",
       "</tbody>\n",
       "</table>\n"
      ],
      "text/latex": [
       "\\begin{tabular}{r|ll}\n",
       "  & Control.Group & Main.Group\\\\\n",
       "\\hline\n",
       "\tProportion & 0.09    & 0.03125\\\\\n",
       "\tlwr.CI & 0.0419836  & 0.01022314\\\\\n",
       "\tupr.CI & 0.1639823 & 0.0714177\\\\\n",
       "\\end{tabular}\n"
      ],
      "text/markdown": [
       "\n",
       "| <!--/--> | Control.Group | Main.Group |\n",
       "|---|---|---|\n",
       "| Proportion | 0.09    | 0.03125 |\n",
       "| lwr.CI | 0.0419836  | 0.01022314 |\n",
       "| upr.CI | 0.1639823 | 0.0714177 |\n",
       "\n"
      ],
      "text/plain": [
       "           Control.Group Main.Group\n",
       "Proportion 0.09          0.03125   \n",
       "lwr.CI     0.0419836     0.01022314\n",
       "upr.CI     0.1639823     0.0714177 "
      ]
     },
     "metadata": {},
     "output_type": "display_data"
    }
   ],
   "source": [
    "Data.DescrStat = as.data.frame(cbind(Control.Group = cg_summary, Main.Group = mg_summary))\n",
    "Data.DescrStat"
   ]
  },
  {
   "cell_type": "markdown",
   "metadata": {},
   "source": [
    "### 5.\tInterpreting data\n",
    "Interpretation has to be started from the proportion comparison and afterwards assess if the confidence intervals of the groups are intersecting. If they are, then the conclusion has to be formulated as a hypothesis. Otherwise one can imply the conclusion, although we would suggest to make the necessary hypotheses testing to make the calculations rigorous and robust.\n",
    "\n",
    " As one can see the Control Group has higher proportion of the ill people than the Main Group. This evidences that taking proposed drug is beneficial for immune system to resist influenza.\n",
    "The confidence intervals (CI) for the groups are intersecting (the upper bound of CI for the Main Group is inside of the CI of the Control Group) which means we cannot imply our finding without formulating and testing the statistical hypotheses, but we can formulate the conclusion in a form of the medical hypothesis.\n",
    "\n",
    "### Conclusion:\n",
    "Taking drug can help prevent influenza for almost 3 times better than without it.\n",
    "\n",
    "**Note:** the word “can” in the conclusion – is just one of the many ways to formulate the conclusion as a hypothesis."
   ]
  }
 ],
 "metadata": {
  "kernelspec": {
   "display_name": "R",
   "language": "R",
   "name": "ir"
  },
  "language_info": {
   "codemirror_mode": "r",
   "file_extension": ".r",
   "mimetype": "text/x-r-source",
   "name": "R",
   "pygments_lexer": "r",
   "version": "3.6.1"
  }
 },
 "nbformat": 4,
 "nbformat_minor": 4
}
