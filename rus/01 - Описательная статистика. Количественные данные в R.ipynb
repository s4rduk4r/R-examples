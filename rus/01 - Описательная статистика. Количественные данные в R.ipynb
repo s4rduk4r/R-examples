{
 "cells": [
  {
   "cell_type": "markdown",
   "metadata": {},
   "source": [
    "# Описательная статистика in R. Пример 1\n",
    "## Количественный тип данных\n",
    "**Задание.** В таблице представлены данные *Уровень глюкозы* в крови и *масса тела*.\n",
    "1. Вычислить среднее, медиану, моду\n",
    "2. Вычислить дисперсию в выборках (вычислить размах и стандартное отклонение). Вычислить стандартную ошибку среднего\n",
    "3. Проверить подчиняются ли выборки нормальному закону распределения\n",
    "4. Вычислить доверительные интервалы для средних значений выборок и дать интерпретацию результатов\n",
    "\n",
    "Уровень глюкозы|Масса тела\n",
    "-|-\n",
    "4|70\n",
    "6|72\n",
    "6|90\n",
    "2|80\n",
    "2|102\n",
    "4|92\n",
    "5|94\n",
    "4|81\n",
    "4|78\n",
    "6|84\n",
    "6|100\n",
    "7|90\n",
    "7|93\n",
    "3|83\n",
    "3|81\n",
    "3|72\n",
    "3|69\n",
    "2|72\n",
    "2|68\n",
    "2|120\n",
    "4|108\n",
    "3|97\n",
    "3|82\n",
    "2|93\n",
    "\n",
    "### 1.\tОпределение типа переменных\n",
    "Т.к. обе величины являются физической величиной, то спектр их значений является бесконечным. Следовательно, обе переменные относятся к количественному типу данных\n",
    "\n",
    "### 2.\tВвод данных в R"
   ]
  },
  {
   "cell_type": "code",
   "execution_count": 1,
   "metadata": {},
   "outputs": [],
   "source": [
    "Input = (\"Уровень глюкозы\tМасса тела\n",
    "4\t70\n",
    "6\t72\n",
    "6\t90\n",
    "2\t80\n",
    "2\t102\n",
    "4\t92\n",
    "5\t94\n",
    "4\t81\n",
    "4\t78\n",
    "6\t84\n",
    "6\t100\n",
    "7\t90\n",
    "7\t93\n",
    "3\t83\n",
    "3\t81\n",
    "3\t72\n",
    "3\t69\n",
    "2\t72\n",
    "2\t68\n",
    "2\t120\n",
    "4\t108\n",
    "3\t97\n",
    "3\t82\n",
    "2\t93\")\n",
    "DF = as.data.frame(read.table(textConnection(Input), header = TRUE, sep = \"\\t\"))"
   ]
  },
  {
   "cell_type": "markdown",
   "metadata": {},
   "source": [
    "Команда выше позволяет работать с данными, собранными в один объект типа data.frame. Для получения доступа к конкретной переменной в data.frame используйте символ `$`. Например, для получения *Уровня глюкозы* необходимо выполнить команду `DF$Уровень.глюкозы`\n",
    "\n",
    "Альтернативным методом создания data.frame является создание вектор-столбцов из соответствующих рядов данных:\n",
    "\n",
    "`глюкоза <- c(4,6,6,2,2,4,5,4,4,6,6,7,7,3,3,3,3,2,2,2,4,3,3,2)`\n",
    "\n",
    "`масса_тела <- c(70,72,90,80,102,92,94,81,78,84,100,90,93,83,81,72,69,72,68,120,108,97,82,93)`\n",
    "\n",
    "`DF = data.frame(Уровень.глюкозы = глюкоза, Масса.тела = масса_тела)`"
   ]
  },
  {
   "cell_type": "markdown",
   "metadata": {},
   "source": [
    "### 2.\tВычислить среднее, медиану, моду\n",
    "Для получения *среднего* необходимо использовать команду `mean`\n"
   ]
  },
  {
   "cell_type": "code",
   "execution_count": 2,
   "metadata": {},
   "outputs": [
    {
     "data": {
      "text/html": [
       "3.875"
      ],
      "text/latex": [
       "3.875"
      ],
      "text/markdown": [
       "3.875"
      ],
      "text/plain": [
       "[1] 3.875"
      ]
     },
     "metadata": {},
     "output_type": "display_data"
    }
   ],
   "source": [
    "mean(DF$Уровень.глюкозы)"
   ]
  },
  {
   "cell_type": "code",
   "execution_count": 3,
   "metadata": {},
   "outputs": [
    {
     "data": {
      "text/html": [
       "86.2916666666667"
      ],
      "text/latex": [
       "86.2916666666667"
      ],
      "text/markdown": [
       "86.2916666666667"
      ],
      "text/plain": [
       "[1] 86.29167"
      ]
     },
     "metadata": {},
     "output_type": "display_data"
    }
   ],
   "source": [
    "mean(DF$Масса.тела)"
   ]
  },
  {
   "cell_type": "markdown",
   "metadata": {},
   "source": [
    "*Медиана* может быть вычислена с помощью команды `median`"
   ]
  },
  {
   "cell_type": "code",
   "execution_count": 4,
   "metadata": {},
   "outputs": [
    {
     "data": {
      "text/html": [
       "3.5"
      ],
      "text/latex": [
       "3.5"
      ],
      "text/markdown": [
       "3.5"
      ],
      "text/plain": [
       "[1] 3.5"
      ]
     },
     "metadata": {},
     "output_type": "display_data"
    }
   ],
   "source": [
    "median(DF$Уровень.глюкозы)"
   ]
  },
  {
   "cell_type": "code",
   "execution_count": 5,
   "metadata": {},
   "outputs": [
    {
     "data": {
      "text/html": [
       "83.5"
      ],
      "text/latex": [
       "83.5"
      ],
      "text/markdown": [
       "83.5"
      ],
      "text/plain": [
       "[1] 83.5"
      ]
     },
     "metadata": {},
     "output_type": "display_data"
    }
   ],
   "source": [
    "median(DF$Масса.тела)"
   ]
  },
  {
   "cell_type": "markdown",
   "metadata": {},
   "source": [
    "*Мода* может быть получена двумя способами:\n",
    "- с помощью комманды `table`\n",
    "- с помощью комманды `Mode` из библиотеки `DescTools`"
   ]
  },
  {
   "cell_type": "code",
   "execution_count": 6,
   "metadata": {},
   "outputs": [
    {
     "data": {
      "text/plain": [
       "\n",
       "2 3 4 5 6 7 \n",
       "6 6 5 1 4 2 "
      ]
     },
     "metadata": {},
     "output_type": "display_data"
    }
   ],
   "source": [
    "table(DF$Уровень.глюкозы)"
   ]
  },
  {
   "cell_type": "markdown",
   "metadata": {},
   "source": [
    "Можно видеть, что есть два значения, встречающиеся с максимальной частотой 6. Это значит, что у переменной *Уровень глюкозы* 2 моды: 2, 3"
   ]
  },
  {
   "cell_type": "code",
   "execution_count": 7,
   "metadata": {},
   "outputs": [],
   "source": [
    "library(DescTools)\t# Эту команду можно исполнить один раз для подключения нужных функций"
   ]
  },
  {
   "cell_type": "code",
   "execution_count": 8,
   "metadata": {},
   "outputs": [
    {
     "data": {
      "text/html": [
       "<ol class=list-inline>\n",
       "\t<li>2</li>\n",
       "\t<li>3</li>\n",
       "</ol>\n"
      ],
      "text/latex": [
       "\\begin{enumerate*}\n",
       "\\item 2\n",
       "\\item 3\n",
       "\\end{enumerate*}\n"
      ],
      "text/markdown": [
       "1. 2\n",
       "2. 3\n",
       "\n",
       "\n"
      ],
      "text/plain": [
       "[1] 2 3\n",
       "attr(,\"freq\")\n",
       "[1] 6"
      ]
     },
     "metadata": {},
     "output_type": "display_data"
    }
   ],
   "source": [
    "Mode(DF$Уровень.глюкозы)"
   ]
  },
  {
   "cell_type": "markdown",
   "metadata": {},
   "source": [
    "Как видите, мы получили точно такой же результат с помощью другой функции. Получение мод(ы) для переменной *Масса тела* оставим читателю (Вам)."
   ]
  },
  {
   "cell_type": "markdown",
   "metadata": {},
   "source": [
    "### 3.\tВычисление размаха, стандартного отклонения, дисперсии, стандартной ошибки среднего\n",
    "*Размах* вычисляется как разность максимального (max) и минимального значения (min) переменной"
   ]
  },
  {
   "cell_type": "code",
   "execution_count": 9,
   "metadata": {},
   "outputs": [
    {
     "data": {
      "text/html": [
       "5"
      ],
      "text/latex": [
       "5"
      ],
      "text/markdown": [
       "5"
      ],
      "text/plain": [
       "[1] 5"
      ]
     },
     "metadata": {},
     "output_type": "display_data"
    }
   ],
   "source": [
    "max(DF$Уровень.глюкозы) - min(DF$Уровень.глюкозы)"
   ]
  },
  {
   "cell_type": "markdown",
   "metadata": {},
   "source": [
    "Альтернативным методом вычисления *размаха* случайной величины является функция `Range` из библиотеки `DescTools`."
   ]
  },
  {
   "cell_type": "code",
   "execution_count": 10,
   "metadata": {},
   "outputs": [
    {
     "data": {
      "text/html": [
       "5"
      ],
      "text/latex": [
       "5"
      ],
      "text/markdown": [
       "5"
      ],
      "text/plain": [
       "[1] 5\n",
       "attr(,\"bounds\")\n",
       "[1] 2 7"
      ]
     },
     "metadata": {},
     "output_type": "display_data"
    }
   ],
   "source": [
    "Range(DF$Уровень.глюкозы)"
   ]
  },
  {
   "cell_type": "markdown",
   "metadata": {},
   "source": [
    "*Стандартное отклонение* вычисляется с помощью функции `sd`"
   ]
  },
  {
   "cell_type": "code",
   "execution_count": 11,
   "metadata": {},
   "outputs": [
    {
     "data": {
      "text/html": [
       "1.67624061778005"
      ],
      "text/latex": [
       "1.67624061778005"
      ],
      "text/markdown": [
       "1.67624061778005"
      ],
      "text/plain": [
       "[1] 1.676241"
      ]
     },
     "metadata": {},
     "output_type": "display_data"
    }
   ],
   "source": [
    "sd(DF$Уровень.глюкозы)"
   ]
  },
  {
   "cell_type": "code",
   "execution_count": 12,
   "metadata": {},
   "outputs": [
    {
     "data": {
      "text/html": [
       "13.3138671305904"
      ],
      "text/latex": [
       "13.3138671305904"
      ],
      "text/markdown": [
       "13.3138671305904"
      ],
      "text/plain": [
       "[1] 13.31387"
      ]
     },
     "metadata": {},
     "output_type": "display_data"
    }
   ],
   "source": [
    "sd(DF$Масса.тела)"
   ]
  },
  {
   "cell_type": "markdown",
   "metadata": {},
   "source": [
    "*Дисперсия* может быть вычислена с помощью функции `var`"
   ]
  },
  {
   "cell_type": "code",
   "execution_count": 13,
   "metadata": {},
   "outputs": [
    {
     "data": {
      "text/html": [
       "2.80978260869565"
      ],
      "text/latex": [
       "2.80978260869565"
      ],
      "text/markdown": [
       "2.80978260869565"
      ],
      "text/plain": [
       "[1] 2.809783"
      ]
     },
     "metadata": {},
     "output_type": "display_data"
    }
   ],
   "source": [
    "var(DF$Уровень.глюкозы)"
   ]
  },
  {
   "cell_type": "code",
   "execution_count": 14,
   "metadata": {},
   "outputs": [
    {
     "data": {
      "text/html": [
       "177.259057971014"
      ],
      "text/latex": [
       "177.259057971014"
      ],
      "text/markdown": [
       "177.259057971014"
      ],
      "text/plain": [
       "[1] 177.2591"
      ]
     },
     "metadata": {},
     "output_type": "display_data"
    }
   ],
   "source": [
    "var(DF$Масса.тела)"
   ]
  },
  {
   "cell_type": "markdown",
   "metadata": {},
   "source": [
    "*Стандартная ошибка среднего* может быть получена двумя способами:\n",
    "1.\tВручную, используя в выражении функции вычисления стандартного отклонения `sd`, квадратного корня `sqrt`, размера выборки `length`"
   ]
  },
  {
   "cell_type": "code",
   "execution_count": 15,
   "metadata": {},
   "outputs": [
    {
     "data": {
      "text/html": [
       "0.342161183307398"
      ],
      "text/latex": [
       "0.342161183307398"
      ],
      "text/markdown": [
       "0.342161183307398"
      ],
      "text/plain": [
       "[1] 0.3421612"
      ]
     },
     "metadata": {},
     "output_type": "display_data"
    }
   ],
   "source": [
    "sd(DF$Уровень.глюкозы) / sqrt(length(DF$Уровень.глюкозы))"
   ]
  },
  {
   "cell_type": "markdown",
   "metadata": {},
   "source": [
    "2.\tВоспользовавшись функцией `MeanSE` из библиотеки `DescTools`"
   ]
  },
  {
   "cell_type": "code",
   "execution_count": 16,
   "metadata": {},
   "outputs": [
    {
     "data": {
      "text/html": [
       "0.342161183307398"
      ],
      "text/latex": [
       "0.342161183307398"
      ],
      "text/markdown": [
       "0.342161183307398"
      ],
      "text/plain": [
       "[1] 0.3421612"
      ]
     },
     "metadata": {},
     "output_type": "display_data"
    }
   ],
   "source": [
    "DescTools::MeanSE(DF$Уровень.глюкозы)"
   ]
  },
  {
   "cell_type": "markdown",
   "metadata": {},
   "source": [
    "The way the `MeanSE` function is being called in this example is just another way of telling `R` that you wish to use specific function from the specific library. But it’s not mandatory and you could safely use the short form: `MeanSE(DF$Glucose.level)` and it would still provide you with the correct result."
   ]
  },
  {
   "cell_type": "code",
   "execution_count": 17,
   "metadata": {},
   "outputs": [
    {
     "data": {
      "text/html": [
       "0.342161183307398"
      ],
      "text/latex": [
       "0.342161183307398"
      ],
      "text/markdown": [
       "0.342161183307398"
      ],
      "text/plain": [
       "[1] 0.3421612"
      ]
     },
     "metadata": {},
     "output_type": "display_data"
    }
   ],
   "source": [
    "MeanSE(DF$Уровень.глюкозы)"
   ]
  },
  {
   "cell_type": "markdown",
   "metadata": {},
   "source": [
    "### 4.\tВычисление доверительного интервала среднего, доверительного интервала медианы\n",
    "*Доверительный интервал среднего* может быть вычислен двумя методами:\n",
    "1. С помощью t-теста для одной выборки"
   ]
  },
  {
   "cell_type": "code",
   "execution_count": 18,
   "metadata": {},
   "outputs": [
    {
     "data": {
      "text/html": [
       "<ol class=list-inline>\n",
       "\t<li>80.6697136364592</li>\n",
       "\t<li>91.9136196968741</li>\n",
       "</ol>\n"
      ],
      "text/latex": [
       "\\begin{enumerate*}\n",
       "\\item 80.6697136364592\n",
       "\\item 91.9136196968741\n",
       "\\end{enumerate*}\n"
      ],
      "text/markdown": [
       "1. 80.6697136364592\n",
       "2. 91.9136196968741\n",
       "\n",
       "\n"
      ],
      "text/plain": [
       "[1] 80.66971 91.91362\n",
       "attr(,\"conf.level\")\n",
       "[1] 0.95"
      ]
     },
     "metadata": {},
     "output_type": "display_data"
    }
   ],
   "source": [
    "t.test(DF$Масса.тела)$conf.int"
   ]
  },
  {
   "cell_type": "markdown",
   "metadata": {},
   "source": [
    "Нижняя граница доверительного интервала среднего - это первое значение (80,67 в данном примере). Верхняя граница доверительного интервала среднего - это второе значение (91,91 в данном примере). Уровень достоверности - 95% (0,95)"
   ]
  },
  {
   "cell_type": "markdown",
   "metadata": {},
   "source": [
    "2.\tС помощью функции `MeanCI` из библиотеки `DescTools`"
   ]
  },
  {
   "cell_type": "code",
   "execution_count": 19,
   "metadata": {},
   "outputs": [
    {
     "data": {
      "text/html": [
       "<dl class=dl-horizontal>\n",
       "\t<dt>mean</dt>\n",
       "\t\t<dd>86.2916666666667</dd>\n",
       "\t<dt>lwr.ci</dt>\n",
       "\t\t<dd>80.6697136364592</dd>\n",
       "\t<dt>upr.ci</dt>\n",
       "\t\t<dd>91.9136196968741</dd>\n",
       "</dl>\n"
      ],
      "text/latex": [
       "\\begin{description*}\n",
       "\\item[mean] 86.2916666666667\n",
       "\\item[lwr.ci] 80.6697136364592\n",
       "\\item[upr.ci] 91.9136196968741\n",
       "\\end{description*}\n"
      ],
      "text/markdown": [
       "mean\n",
       ":   86.2916666666667lwr.ci\n",
       ":   80.6697136364592upr.ci\n",
       ":   91.9136196968741\n",
       "\n"
      ],
      "text/plain": [
       "    mean   lwr.ci   upr.ci \n",
       "86.29167 80.66971 91.91362 "
      ]
     },
     "metadata": {},
     "output_type": "display_data"
    }
   ],
   "source": [
    "MeanCI(DF$Масса.тела)"
   ]
  },
  {
   "cell_type": "markdown",
   "metadata": {},
   "source": [
    "`lwr.ci` - нижняя (левая) граница *доверительного интервала среднего*\n",
    "\n",
    "`upr.ci` - верхняя (правая) граница *доверительного интервала среднего*\n",
    "\n",
    "Уровень достоверности *доверительного интервала* по-умолчанию для функции `MeanCI` равен 95% (0,95)"
   ]
  },
  {
   "cell_type": "markdown",
   "metadata": {},
   "source": [
    "*Доверительный интервал медианы* может быть получен с помощью функции `MedianCI` из библиотеки `DescTools`"
   ]
  },
  {
   "cell_type": "code",
   "execution_count": 20,
   "metadata": {},
   "outputs": [
    {
     "data": {
      "text/html": [
       "<dl class=dl-horizontal>\n",
       "\t<dt>median</dt>\n",
       "\t\t<dd>3.5</dd>\n",
       "\t<dt>lwr.ci</dt>\n",
       "\t\t<dd>3</dd>\n",
       "\t<dt>upr.ci</dt>\n",
       "\t\t<dd>5</dd>\n",
       "</dl>\n"
      ],
      "text/latex": [
       "\\begin{description*}\n",
       "\\item[median] 3.5\n",
       "\\item[lwr.ci] 3\n",
       "\\item[upr.ci] 5\n",
       "\\end{description*}\n"
      ],
      "text/markdown": [
       "median\n",
       ":   3.5lwr.ci\n",
       ":   3upr.ci\n",
       ":   5\n",
       "\n"
      ],
      "text/plain": [
       "median lwr.ci upr.ci \n",
       "   3.5    3.0    5.0 \n",
       "attr(,\"conf.level\")\n",
       "[1] 0.9773442"
      ]
     },
     "metadata": {},
     "output_type": "display_data"
    }
   ],
   "source": [
    "MedianCI(DF$Уровень.глюкозы)"
   ]
  },
  {
   "cell_type": "markdown",
   "metadata": {},
   "source": [
    "`lwr.ci` - нижняя (левая) граница *доверительного интервала медианы*.\n",
    "\n",
    "`upr.ci` - верхняя (правая) граница *доверительного интервала медианы*\n",
    "\n",
    "Уровень достоверности *доверительного интервала* по-умолчанию для функции `MedianCI` равен 95% (0,95)."
   ]
  },
  {
   "cell_type": "markdown",
   "metadata": {},
   "source": [
    "### 5.\tПроверка выборки на нормальный закон распределения\n",
    "Чтобы проверить подчиняется ли выборка нормальному закону распределения необходимо использовать тест Шапиро-Уилка, реализованный функцией `shapiro.test`. Если выборка подчиняется нормальному закону распределения, то тест Шапиро-Уилка выдаст `p-value` выше *уровня значимости* 0,05. В противном случае в выборке действует отличный от нормального закон распределения случайной величины"
   ]
  },
  {
   "cell_type": "code",
   "execution_count": 21,
   "metadata": {},
   "outputs": [
    {
     "data": {
      "text/plain": [
       "\n",
       "\tShapiro-Wilk normality test\n",
       "\n",
       "data:  DF$Уровень.глюкозы\n",
       "W = 0.87708, p-value = 0.007263\n"
      ]
     },
     "metadata": {},
     "output_type": "display_data"
    }
   ],
   "source": [
    "shapiro.test(DF$Уровень.глюкозы)"
   ]
  },
  {
   "cell_type": "markdown",
   "metadata": {},
   "source": [
    "Как видим, случайная величина *Уровень глюкозы* не подчиняется нормальному закону распределения, т.к. её `p-value` ниже *уровня значимости* в 0,05. Мы можем подтвердить этот вывод построив гистограмму случайной величины. Для этого нам понадобится функция `hist`. Результат работы функции показан на изображении ниже.\n",
    "\n",
    "`hist(DF$Уровень.глюкозы, main = \"Уровень глюкозы\", xlab = \"Value\")`\n",
    "\n",
    "`main = “Уровень глюкозы”` – заголовок графика гистограммы\n",
    "\n",
    "`xlab = “Value”` – подпись горизонтальной оси"
   ]
  },
  {
   "cell_type": "code",
   "execution_count": 22,
   "metadata": {},
   "outputs": [
    {
     "data": {
      "image/png": "[encoded data removed]",
      "text/plain": [
       "Plot with title “Уровень глюкозы”"
      ]
     },
     "metadata": {},
     "output_type": "display_data"
    }
   ],
   "source": [
    "hist(DF$Уровень.глюкозы, main = \"Уровень глюкозы\", xlab = \"Value\")"
   ]
  },
  {
   "cell_type": "markdown",
   "metadata": {},
   "source": [
    "Для *Массы тела* выходит противоположная картина"
   ]
  },
  {
   "cell_type": "code",
   "execution_count": 23,
   "metadata": {},
   "outputs": [
    {
     "data": {
      "text/plain": [
       "\n",
       "\tShapiro-Wilk normality test\n",
       "\n",
       "data:  DF$Масса.тела\n",
       "W = 0.95007, p-value = 0.2719\n"
      ]
     },
     "metadata": {},
     "output_type": "display_data"
    }
   ],
   "source": [
    "shapiro.test(DF$Масса.тела)"
   ]
  },
  {
   "cell_type": "markdown",
   "metadata": {},
   "source": [
    "`p-value` *Массы тела* превышает *уровень значимости* в 0,05. Это нам говорит о том, что случайная величина *Масса тела* подчиняется нормальному закону распределения. Гистограмма представлена ниже"
   ]
  },
  {
   "cell_type": "code",
   "execution_count": 24,
   "metadata": {},
   "outputs": [
    {
     "data": {
      "image/png": "[encoded data removed]",
      "text/plain": [
       "Plot with title “Масса тела”"
      ]
     },
     "metadata": {},
     "output_type": "display_data"
    }
   ],
   "source": [
    "hist(DF$Масса.тела, main = \"Масса тела\", xlab = \"Value\")"
   ]
  },
  {
   "cell_type": "markdown",
   "metadata": {},
   "source": [
    "### 6.\tПодготовка результатов\n",
    "Мы должны собрать результаты в таблицу. Для этого мы могли бы сохранить результаты в отдельные переменные (предпочтительный способ), либо мы можем создать выражение, объединяющее все нужные функции.\n",
    "\n",
    "Переменная `урвн_гл_итог` будет хранить результаты вычислений для *Уровня глюкозы*:"
   ]
  },
  {
   "cell_type": "code",
   "execution_count": 25,
   "metadata": {},
   "outputs": [],
   "source": [
    "урвн_гл_итог <- list(\n",
    "\tПеременная = \"Уровень глюкозы\",\n",
    "\tРазмер = length(DF$Уровень.глюкозы), \n",
    "\tМинимум = min(DF$Уровень.глюкозы), \n",
    "\tМаксимум = max(DF$Уровень.глюкозы),\n",
    "\tСреднее = mean(DF$Уровень.глюкозы), \n",
    "\tМедиана = median(DF$Уровень.глюкозы), \n",
    "\tСтд.откл = sd(DF$Уровень.глюкозы), \n",
    "\tДисперсия = var(DF$Уровень.глюкозы),\n",
    "\tСт.ош.ср = DescTools::MeanSE(DF$Уровень.глюкозы), \n",
    "\tнижн.ДИ = DescTools::MedianCI(DF$Уровень.глюкозы)[\"lwr.ci\"],\n",
    "\tверх.ДИ = DescTools::MedianCI(DF$Уровень.глюкозы)[\"upr.ci\"]\n",
    ")"
   ]
  },
  {
   "cell_type": "markdown",
   "metadata": {},
   "source": [
    "Переменная *урвн_гл_итог* является списком пар `tag = value`. *Tag* служит именем для значения *value* и не влияет на вычисления, предоставляя возможность обратиться к конкретному значению по его имени *tag*\n",
    "\n",
    "Переменная `мт_итог` будет хранить результаты вычислений для *Массы тела*:"
   ]
  },
  {
   "cell_type": "code",
   "execution_count": 26,
   "metadata": {},
   "outputs": [],
   "source": [
    "мт_итог <- list(\n",
    "\tПеременная = \"Масса тела\", \n",
    "\tРазмер = length(DF$Масса.тела), \n",
    "\tМинимум = min(DF$Масса.тела), \n",
    "\tМаксимум = max(DF$Масса.тела), \n",
    "\tСреднее = mean(DF$Масса.тела), \n",
    "\tМедиана = median(DF$Масса.тела), \n",
    "\tСтд.откл = sd(DF$Масса.тела),\n",
    "\tДисперсия = var(DF$Масса.тела),\n",
    "\tСт.ош.ср = DescTools::MeanSE(DF$Масса.тела), \n",
    "\tнижн.ДИ = t.test(DF$Масса.тела)$conf.int[1],\n",
    "\tверх.ДИ = t.test(DF$Масса.тела)$conf.int[2]\n",
    ")"
   ]
  },
  {
   "cell_type": "markdown",
   "metadata": {},
   "source": [
    "Итоговый объект типа `data.frame` будет содержать результаты, полученные в ходе объединения переменных выше. Во время объединения обе переменные будут считаться либо строками, либо столбцами. Для объединения переменных как строки, необходимо использовать функцию `rbind`. Для объединения переменных как столбцы, используют функцию `cbind`. "
   ]
  },
  {
   "cell_type": "code",
   "execution_count": 27,
   "metadata": {},
   "outputs": [
    {
     "data": {
      "text/html": [
       "<table>\n",
       "<thead><tr><th></th><th scope=col>Переменная</th><th scope=col>Размер</th><th scope=col>Минимум</th><th scope=col>Максимум</th><th scope=col>Среднее</th><th scope=col>Медиана</th><th scope=col>Стд.откл</th><th scope=col>Дисперсия</th><th scope=col>Ст.ош.ср</th><th scope=col>нижн.ДИ</th><th scope=col>верх.ДИ</th></tr></thead>\n",
       "<tbody>\n",
       "\t<tr><th scope=row>урвн_гл_итог</th><td>Уровень глюкозы</td><td>24             </td><td>2              </td><td>7              </td><td>3.875          </td><td>3.5            </td><td>1.676241       </td><td>2.809783       </td><td>0.3421612      </td><td>3              </td><td>5              </td></tr>\n",
       "\t<tr><th scope=row>мт_итог</th><td>Масса тела</td><td>24        </td><td>68        </td><td>120       </td><td>86.29167  </td><td>83.5      </td><td>13.31387  </td><td>177.2591  </td><td>2.717682  </td><td>80.66971  </td><td>91.91362  </td></tr>\n",
       "</tbody>\n",
       "</table>\n"
      ],
      "text/latex": [
       "\\begin{tabular}{r|lllllllllll}\n",
       "  & Переменная & Размер & Минимум & Максимум & Среднее & Медиана & Стд.откл & Дисперсия & Ст.ош.ср & нижн.ДИ & верх.ДИ\\\\\n",
       "\\hline\n",
       "\tурвн\\_гл\\_итог & Уровень глюкозы & 24              & 2               & 7               & 3.875           & 3.5             & 1.676241        & 2.809783        & 0.3421612       & 3               & 5              \\\\\n",
       "\tмт\\_итог & Масса тела & 24         & 68         & 120        & 86.29167   & 83.5       & 13.31387   & 177.2591   & 2.717682   & 80.66971   & 91.91362  \\\\\n",
       "\\end{tabular}\n"
      ],
      "text/markdown": [
       "\n",
       "| <!--/--> | Переменная | Размер | Минимум | Максимум | Среднее | Медиана | Стд.откл | Дисперсия | Ст.ош.ср | нижн.ДИ | верх.ДИ |\n",
       "|---|---|---|---|---|---|---|---|---|---|---|---|\n",
       "| урвн_гл_итог | Уровень глюкозы | 24              | 2               | 7               | 3.875           | 3.5             | 1.676241        | 2.809783        | 0.3421612       | 3               | 5               |\n",
       "| мт_итог | Масса тела | 24         | 68         | 120        | 86.29167   | 83.5       | 13.31387   | 177.2591   | 2.717682   | 80.66971   | 91.91362   |\n",
       "\n"
      ],
      "text/plain": [
       "             Переменная      Размер Минимум Максимум Среднее  Медиана Стд.откл\n",
       "урвн_гл_итог Уровень глюкозы 24     2       7        3.875    3.5     1.676241\n",
       "мт_итог      Масса тела      24     68      120      86.29167 83.5    13.31387\n",
       "             Дисперсия Ст.ош.ср  нижн.ДИ  верх.ДИ \n",
       "урвн_гл_итог 2.809783  0.3421612 3        5       \n",
       "мт_итог      177.2591  2.717682  80.66971 91.91362"
      ]
     },
     "metadata": {},
     "output_type": "display_data"
    }
   ],
   "source": [
    "rbind(урвн_гл_итог,мт_итог)"
   ]
  },
  {
   "cell_type": "code",
   "execution_count": 28,
   "metadata": {},
   "outputs": [
    {
     "data": {
      "text/html": [
       "<table>\n",
       "<thead><tr><th></th><th scope=col>урвн_гл_итог</th><th scope=col>мт_итог</th></tr></thead>\n",
       "<tbody>\n",
       "\t<tr><th scope=row>Переменная</th><td>Уровень глюкозы</td><td>Масса тела     </td></tr>\n",
       "\t<tr><th scope=row>Размер</th><td>24</td><td>24</td></tr>\n",
       "\t<tr><th scope=row>Минимум</th><td>2 </td><td>68</td></tr>\n",
       "\t<tr><th scope=row>Максимум</th><td>7  </td><td>120</td></tr>\n",
       "\t<tr><th scope=row>Среднее</th><td>3.875   </td><td>86.29167</td></tr>\n",
       "\t<tr><th scope=row>Медиана</th><td>3.5 </td><td>83.5</td></tr>\n",
       "\t<tr><th scope=row>Стд.откл</th><td>1.676241</td><td>13.31387</td></tr>\n",
       "\t<tr><th scope=row>Дисперсия</th><td>2.809783</td><td>177.2591</td></tr>\n",
       "\t<tr><th scope=row>Ст.ош.ср</th><td>0.3421612</td><td>2.717682 </td></tr>\n",
       "\t<tr><th scope=row>нижн.ДИ</th><td>3       </td><td>80.66971</td></tr>\n",
       "\t<tr><th scope=row>верх.ДИ</th><td>5       </td><td>91.91362</td></tr>\n",
       "</tbody>\n",
       "</table>\n"
      ],
      "text/latex": [
       "\\begin{tabular}{r|ll}\n",
       "  & урвн\\_гл\\_итог & мт\\_итог\\\\\n",
       "\\hline\n",
       "\tПеременная & Уровень глюкозы & Масса тела     \\\\\n",
       "\tРазмер & 24 & 24\\\\\n",
       "\tМинимум & 2  & 68\\\\\n",
       "\tМаксимум & 7   & 120\\\\\n",
       "\tСреднее & 3.875    & 86.29167\\\\\n",
       "\tМедиана & 3.5  & 83.5\\\\\n",
       "\tСтд.откл & 1.676241 & 13.31387\\\\\n",
       "\tДисперсия & 2.809783 & 177.2591\\\\\n",
       "\tСт.ош.ср & 0.3421612 & 2.717682 \\\\\n",
       "\tнижн.ДИ & 3        & 80.66971\\\\\n",
       "\tверх.ДИ & 5        & 91.91362\\\\\n",
       "\\end{tabular}\n"
      ],
      "text/markdown": [
       "\n",
       "| <!--/--> | урвн_гл_итог | мт_итог |\n",
       "|---|---|---|\n",
       "| Переменная | Уровень глюкозы | Масса тела      |\n",
       "| Размер | 24 | 24 |\n",
       "| Минимум | 2  | 68 |\n",
       "| Максимум | 7   | 120 |\n",
       "| Среднее | 3.875    | 86.29167 |\n",
       "| Медиана | 3.5  | 83.5 |\n",
       "| Стд.откл | 1.676241 | 13.31387 |\n",
       "| Дисперсия | 2.809783 | 177.2591 |\n",
       "| Ст.ош.ср | 0.3421612 | 2.717682  |\n",
       "| нижн.ДИ | 3        | 80.66971 |\n",
       "| верх.ДИ | 5        | 91.91362 |\n",
       "\n"
      ],
      "text/plain": [
       "           урвн_гл_итог    мт_итог   \n",
       "Переменная Уровень глюкозы Масса тела\n",
       "Размер     24              24        \n",
       "Минимум    2               68        \n",
       "Максимум   7               120       \n",
       "Среднее    3.875           86.29167  \n",
       "Медиана    3.5             83.5      \n",
       "Стд.откл   1.676241        13.31387  \n",
       "Дисперсия  2.809783        177.2591  \n",
       "Ст.ош.ср   0.3421612       2.717682  \n",
       "нижн.ДИ    3               80.66971  \n",
       "верх.ДИ    5               91.91362  "
      ]
     },
     "metadata": {},
     "output_type": "display_data"
    }
   ],
   "source": [
    "cbind(урвн_гл_итог,мт_итог)"
   ]
  },
  {
   "cell_type": "markdown",
   "metadata": {},
   "source": [
    "Сохраните свои вычисления как data.frame"
   ]
  },
  {
   "cell_type": "code",
   "execution_count": 29,
   "metadata": {},
   "outputs": [],
   "source": [
    "DF_Summary = as.data.frame(cbind(урвн_гл_итог,мт_итог))"
   ]
  },
  {
   "cell_type": "markdown",
   "metadata": {},
   "source": [
    "С этого момента можно получить доступ к конкретному значению, указав его с помощью символа `$`. Например, для получения верхней границы доверительного интервала массы тела, необходимо выполнить команду `DF_Summary$мт_итог$верх.ДИ`"
   ]
  },
  {
   "cell_type": "code",
   "execution_count": 30,
   "metadata": {},
   "outputs": [
    {
     "data": {
      "text/html": [
       "91.9136196968741"
      ],
      "text/latex": [
       "91.9136196968741"
      ],
      "text/markdown": [
       "91.9136196968741"
      ],
      "text/plain": [
       "[1] 91.91362"
      ]
     },
     "metadata": {},
     "output_type": "display_data"
    }
   ],
   "source": [
    "DF_Summary$мт_итог$верх.ДИ"
   ]
  },
  {
   "cell_type": "markdown",
   "metadata": {},
   "source": [
    "### Вывод:\n",
    "*Уровень глюкозы* находится в диапазоне [2; 7] с 95% доверительным интервалом медианы [3; 5] и не подчиняется нормальному распределению. Медианное значение *уровня глюкозы* равно 3,875.\n",
    "Значения *массы тела* подчиняются нормальному распределению и находятся в диапазоне [68; 120] с 95% доверительным интервалом среднего [80.67; 91.91]. Стандартная ошибка среднего выборки приблизительно в 40 раз ниже среднего, что указывает на тот факт, что данная выборка является репрезентативной по отношению к своей генеральной совокупности."
   ]
  }
 ],
 "metadata": {
  "kernelspec": {
   "display_name": "R",
   "language": "R",
   "name": "ir"
  },
  "language_info": {
   "codemirror_mode": "r",
   "file_extension": ".r",
   "mimetype": "text/x-r-source",
   "name": "R",
   "pygments_lexer": "r",
   "version": "3.6.1"
  }
 },
 "nbformat": 4,
 "nbformat_minor": 4
}
