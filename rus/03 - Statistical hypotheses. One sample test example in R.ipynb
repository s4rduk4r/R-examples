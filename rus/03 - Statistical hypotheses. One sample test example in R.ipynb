{
 "cells": [
  {
   "cell_type": "markdown",
   "metadata": {},
   "source": [
    "# Statistical hypotheses in R. Example 3\n",
    "## One-sample test\n",
    "**Task 1.** The average sleep time for the person is supposed to be 8 hours a day (μ). Supposedly college\n",
    "students sleep different amount of hours. We survey ten students to get how long is their sleep. The student's sleep hours we've gotten is (hours): 6, 5, 5, 5, 4, 5, 3, 6, 7, 6. Are college students come from a population separate\n",
    "from the rest of society who contributed to the mean of 8 hours a night that we hear about?\n",
    "\n",
    "### 1.\tDefine the type of the variable\n",
    "Because the variable is a physical value (time) it's a numeric type of data\t"
   ]
  },
  {
   "cell_type": "markdown",
   "metadata": {},
   "source": [
    "**1.1. Get data in R**\n",
    "\n",
    "Set the *average sleep hours* as a variable"
   ]
  },
  {
   "cell_type": "code",
   "execution_count": 1,
   "metadata": {},
   "outputs": [],
   "source": [
    "sleep_avg = 8"
   ]
  },
  {
   "cell_type": "markdown",
   "metadata": {},
   "source": [
    "Prepare the data obtained from the survey as a column vector"
   ]
  },
  {
   "cell_type": "code",
   "execution_count": 2,
   "metadata": {},
   "outputs": [],
   "source": [
    "sleep_hours = c(6, 5, 5, 5, 4, 5, 3, 6, 7, 6)"
   ]
  },
  {
   "cell_type": "markdown",
   "metadata": {},
   "source": [
    "### 2. Check if sample follows normal distribution"
   ]
  },
  {
   "cell_type": "code",
   "execution_count": 3,
   "metadata": {},
   "outputs": [
    {
     "data": {
      "text/plain": [
       "\n",
       "\tShapiro-Wilk normality test\n",
       "\n",
       "data:  sleep_hours\n",
       "W = 0.93308, p-value = 0.4788\n"
      ]
     },
     "metadata": {},
     "output_type": "display_data"
    }
   ],
   "source": [
    "shapiro.test(sleep_hours)"
   ]
  },
  {
   "cell_type": "markdown",
   "metadata": {},
   "source": [
    "Because `p-value` of the sample is greater than the significance level of 0.05 we have to accept the null hypothesis of the Shapiro-Wilk test. So we derive that given sample follows normal distribution."
   ]
  },
  {
   "cell_type": "markdown",
   "metadata": {},
   "source": [
    "### 3. Formulate the statistical hypotheses\n",
    "**Null hypothesis (H0):** The mean value of sleep hours among the college students doesn't differ from the average sleep time of a common person\n",
    "\n",
    "**Alternative hypothesis (H1):** The mean value of sleep hours among the college students differs from the average sleep time of a common person\n",
    "\n",
    "### 4. One-sample t.test\n",
    "Because we need to determine if the considered sample has the mean value of 8 and this sample follows normal distribution that's why we have to use One-sample T-test. In R this test is called by `t.test` function. And because we compare the mean of the sample against the fixed mean value we have to specify the `mu = ` argument of `t.test` function."
   ]
  },
  {
   "cell_type": "code",
   "execution_count": 4,
   "metadata": {},
   "outputs": [
    {
     "data": {
      "text/plain": [
       "\n",
       "\tOne Sample t-test\n",
       "\n",
       "data:  sleep_hours\n",
       "t = -7.7992, df = 9, p-value = 2.71e-05\n",
       "alternative hypothesis: true mean is not equal to 8\n",
       "95 percent confidence interval:\n",
       " 4.387861 6.012139\n",
       "sample estimates:\n",
       "mean of x \n",
       "      5.2 \n"
      ]
     },
     "metadata": {},
     "output_type": "display_data"
    }
   ],
   "source": [
    "t.test(sleep_hours, mu = sleep_avg)"
   ]
  },
  {
   "cell_type": "markdown",
   "metadata": {},
   "source": [
    "Test results show that we have to reject the alternative hypothesis and accept the alternative hypothesis. We have to conclude that the average sleep hours among the college students is different from the average person. \n",
    "\n",
    "### Conclusion\n",
    "College students come from a population separate from the rest of society who contributed to the mean value of 8 hours."
   ]
  }
 ],
 "metadata": {
  "kernelspec": {
   "display_name": "R",
   "language": "R",
   "name": "ir"
  },
  "language_info": {
   "codemirror_mode": "r",
   "file_extension": ".r",
   "mimetype": "text/x-r-source",
   "name": "R",
   "pygments_lexer": "r",
   "version": "3.6.1"
  }
 },
 "nbformat": 4,
 "nbformat_minor": 4
}
