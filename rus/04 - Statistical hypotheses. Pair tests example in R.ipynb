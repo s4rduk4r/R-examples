{
 "cells": [
  {
   "cell_type": "markdown",
   "metadata": {},
   "source": [
    "# Statistical hypotheses in R. Example 4\n",
    "## Two-sample test\n",
    "**Task 3.** Treatment group and control group for drug testing consists of 6 subjects. Effect of the drug was measured by the reaction times of each subject:\n",
    "\n",
    "Control group, ms | Treatment group, ms\n",
    "-|-\n",
    "101|91\n",
    "110|91\n",
    "103|87\n",
    "93|99\n",
    "99|77\n",
    "104|88\n",
    "\n",
    "Is the treatment effective in decreasing reaction time?\n",
    "\n",
    "### 1.\tDefine the type of the variable\n",
    "Because the variable is a physical value (time) it's a numeric type of data\t\n",
    "\n",
    "**Get data in R**"
   ]
  },
  {
   "cell_type": "code",
   "execution_count": 1,
   "metadata": {},
   "outputs": [
    {
     "data": {
      "text/html": [
       "<table>\n",
       "<thead><tr><th scope=col>Control.group</th><th scope=col>Treatment.group</th></tr></thead>\n",
       "<tbody>\n",
       "\t<tr><td>101</td><td>91 </td></tr>\n",
       "\t<tr><td>110</td><td>91 </td></tr>\n",
       "\t<tr><td>103</td><td>87 </td></tr>\n",
       "\t<tr><td> 93</td><td>99 </td></tr>\n",
       "\t<tr><td> 99</td><td>77 </td></tr>\n",
       "\t<tr><td>104</td><td>88 </td></tr>\n",
       "</tbody>\n",
       "</table>\n"
      ],
      "text/latex": [
       "\\begin{tabular}{r|ll}\n",
       " Control.group & Treatment.group\\\\\n",
       "\\hline\n",
       "\t 101 & 91 \\\\\n",
       "\t 110 & 91 \\\\\n",
       "\t 103 & 87 \\\\\n",
       "\t  93 & 99 \\\\\n",
       "\t  99 & 77 \\\\\n",
       "\t 104 & 88 \\\\\n",
       "\\end{tabular}\n"
      ],
      "text/markdown": [
       "\n",
       "| Control.group | Treatment.group |\n",
       "|---|---|\n",
       "| 101 | 91  |\n",
       "| 110 | 91  |\n",
       "| 103 | 87  |\n",
       "|  93 | 99  |\n",
       "|  99 | 77  |\n",
       "| 104 | 88  |\n",
       "\n"
      ],
      "text/plain": [
       "  Control.group Treatment.group\n",
       "1 101           91             \n",
       "2 110           91             \n",
       "3 103           87             \n",
       "4  93           99             \n",
       "5  99           77             \n",
       "6 104           88             "
      ]
     },
     "metadata": {},
     "output_type": "display_data"
    }
   ],
   "source": [
    "Input = (\n",
    "        \"Control group\tTreatment group\n",
    "101 \t91\n",
    "110 \t91\n",
    "103 \t87\n",
    "93 \t99\n",
    "99 \t77\n",
    "104 \t88\")\n",
    "Data = as.data.frame(read.table(textConnection(Input), header = TRUE, sep = \"\\t\"))\n",
    "Data"
   ]
  },
  {
   "cell_type": "markdown",
   "metadata": {},
   "source": [
    "### 2. Check if the samples follow normal distribution"
   ]
  },
  {
   "cell_type": "code",
   "execution_count": 2,
   "metadata": {},
   "outputs": [
    {
     "data": {
      "text/plain": [
       "\n",
       "\tShapiro-Wilk normality test\n",
       "\n",
       "data:  Data$Control.group\n",
       "W = 0.98231, p-value = 0.9624\n"
      ]
     },
     "metadata": {},
     "output_type": "display_data"
    }
   ],
   "source": [
    "shapiro.test(Data$Control.group)"
   ]
  },
  {
   "cell_type": "markdown",
   "metadata": {},
   "source": [
    "Times in *Control group* follow the normal distribution"
   ]
  },
  {
   "cell_type": "code",
   "execution_count": 3,
   "metadata": {
    "scrolled": false
   },
   "outputs": [
    {
     "data": {
      "text/plain": [
       "\n",
       "\tShapiro-Wilk normality test\n",
       "\n",
       "data:  Data$Treatment.group\n",
       "W = 0.93942, p-value = 0.6545\n"
      ]
     },
     "metadata": {},
     "output_type": "display_data"
    }
   ],
   "source": [
    "shapiro.test(Data$Treatment.group)"
   ]
  },
  {
   "cell_type": "markdown",
   "metadata": {},
   "source": [
    "Times in *Treatment group* follow the normal distribution\n",
    "\n",
    "**Both samples follow the normal distribution which means we have to use the parametrical methods**\n",
    "\n",
    "### 3. Formulate the statistical hypotheses\n",
    "**Null hypothesis (H0):** Reaction times in both samples are the same, so the treatment is ineffective\n",
    "\n",
    "**Alternative hypothesis (H1):** Reaction times in both samples are different, so the treatmen has some effect"
   ]
  },
  {
   "cell_type": "markdown",
   "metadata": {},
   "source": [
    "### 4. Check if the samples are paired\n",
    "\n",
    "Because we have study with the control group it means that the source subjects were different for each of the variable and the samples are not paired."
   ]
  },
  {
   "cell_type": "markdown",
   "metadata": {},
   "source": [
    "### 5. Test the hypotheses"
   ]
  },
  {
   "cell_type": "code",
   "execution_count": 4,
   "metadata": {},
   "outputs": [
    {
     "data": {
      "text/plain": [
       "\n",
       "\tWelch Two Sample t-test\n",
       "\n",
       "data:  Data$Treatment.group and Data$Control.group\n",
       "t = -3.4456, df = 9.4797, p-value = 0.006782\n",
       "alternative hypothesis: true difference in means is not equal to 0\n",
       "95 percent confidence interval:\n",
       " -21.194292  -4.472375\n",
       "sample estimates:\n",
       "mean of x mean of y \n",
       " 88.83333 101.66667 \n"
      ]
     },
     "metadata": {},
     "output_type": "display_data"
    }
   ],
   "source": [
    "t.test(Data$Treatment.group, Data$Control.group)"
   ]
  },
  {
   "cell_type": "markdown",
   "metadata": {},
   "source": [
    "Because `p-value` of a test is lower than the significance level of 0.05, we have to reject the null hypothesis and accept the alternative hypothesis. It means that the treatment has some effect. But we still don't know if administering this treatment slows the subjects. To answer that question we have to compare the means. As one can see from the `t.test` function output the mean value of reaction time in Treatment group is lower, than mean value of reaction time in Control group. It points to the fact of treatment having the slow down effect on the subjects.\n",
    "\n",
    "### Conclusion\n",
    "The treatment is effective in decreasing reaction time of the subjects."
   ]
  }
 ],
 "metadata": {
  "kernelspec": {
   "display_name": "R",
   "language": "R",
   "name": "ir"
  },
  "language_info": {
   "codemirror_mode": "r",
   "file_extension": ".r",
   "mimetype": "text/x-r-source",
   "name": "R",
   "pygments_lexer": "r",
   "version": "3.6.1"
  }
 },
 "nbformat": 4,
 "nbformat_minor": 4
}
