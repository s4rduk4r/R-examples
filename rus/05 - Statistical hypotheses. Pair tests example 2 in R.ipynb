{
 "cells": [
  {
   "cell_type": "markdown",
   "metadata": {},
   "source": [
    "# Statistical hypotheses in R. Example 5\n",
    "## Two-sample test\n",
    "**Task.** During the leptin resistance studies the patients of both genders with hypertension and metabolic syndrome were the subjects of the free leptin index (FLI) testing. The results are presented in a table below. Find if the FLI levels are the same in patients of both genders.\n",
    "\n",
    "Men|Women\n",
    "-|-\n",
    "5.45|4.50\n",
    "5.46|4.44\n",
    "5.40|4.32\n",
    "4.96|4.71\n",
    "5.52|4.67\n",
    "5.61|4.54\n",
    "4.92|4.37\n",
    "5.47|4.45\n",
    "5.45|4.51\n",
    "4.89|4.19\n",
    "5.27|4.62\n",
    "5.34|4.28\n",
    "5.16|4.34\n",
    "5.67|4.50\n",
    "5.51|4.68\n",
    "5.49|4.50\n",
    "\n",
    "\n",
    "### 1.\tDefine the type of the variable\n",
    "Because the variable is an index calculated from a physical value (concentration) it's a numeric type of data.\n",
    "\n",
    "**Get data in R**"
   ]
  },
  {
   "cell_type": "code",
   "execution_count": 1,
   "metadata": {
    "scrolled": false
   },
   "outputs": [
    {
     "data": {
      "text/html": [
       "<table>\n",
       "<thead><tr><th scope=col>Men</th><th scope=col>Women</th></tr></thead>\n",
       "<tbody>\n",
       "\t<tr><td>5.45</td><td>4.50</td></tr>\n",
       "\t<tr><td>5.46</td><td>4.44</td></tr>\n",
       "\t<tr><td>5.40</td><td>4.32</td></tr>\n",
       "\t<tr><td>4.96</td><td>4.71</td></tr>\n",
       "\t<tr><td>5.52</td><td>4.67</td></tr>\n",
       "\t<tr><td>5.61</td><td>4.54</td></tr>\n",
       "\t<tr><td>4.92</td><td>4.37</td></tr>\n",
       "\t<tr><td>5.47</td><td>4.45</td></tr>\n",
       "\t<tr><td>5.45</td><td>4.51</td></tr>\n",
       "\t<tr><td>4.89</td><td>4.19</td></tr>\n",
       "\t<tr><td>5.27</td><td>4.62</td></tr>\n",
       "\t<tr><td>5.34</td><td>4.28</td></tr>\n",
       "\t<tr><td>5.16</td><td>4.34</td></tr>\n",
       "\t<tr><td>5.67</td><td>4.50</td></tr>\n",
       "\t<tr><td>5.51</td><td>4.68</td></tr>\n",
       "\t<tr><td>5.49</td><td>4.50</td></tr>\n",
       "</tbody>\n",
       "</table>\n"
      ],
      "text/latex": [
       "\\begin{tabular}{r|ll}\n",
       " Men & Women\\\\\n",
       "\\hline\n",
       "\t 5.45 & 4.50\\\\\n",
       "\t 5.46 & 4.44\\\\\n",
       "\t 5.40 & 4.32\\\\\n",
       "\t 4.96 & 4.71\\\\\n",
       "\t 5.52 & 4.67\\\\\n",
       "\t 5.61 & 4.54\\\\\n",
       "\t 4.92 & 4.37\\\\\n",
       "\t 5.47 & 4.45\\\\\n",
       "\t 5.45 & 4.51\\\\\n",
       "\t 4.89 & 4.19\\\\\n",
       "\t 5.27 & 4.62\\\\\n",
       "\t 5.34 & 4.28\\\\\n",
       "\t 5.16 & 4.34\\\\\n",
       "\t 5.67 & 4.50\\\\\n",
       "\t 5.51 & 4.68\\\\\n",
       "\t 5.49 & 4.50\\\\\n",
       "\\end{tabular}\n"
      ],
      "text/markdown": [
       "\n",
       "| Men | Women |\n",
       "|---|---|\n",
       "| 5.45 | 4.50 |\n",
       "| 5.46 | 4.44 |\n",
       "| 5.40 | 4.32 |\n",
       "| 4.96 | 4.71 |\n",
       "| 5.52 | 4.67 |\n",
       "| 5.61 | 4.54 |\n",
       "| 4.92 | 4.37 |\n",
       "| 5.47 | 4.45 |\n",
       "| 5.45 | 4.51 |\n",
       "| 4.89 | 4.19 |\n",
       "| 5.27 | 4.62 |\n",
       "| 5.34 | 4.28 |\n",
       "| 5.16 | 4.34 |\n",
       "| 5.67 | 4.50 |\n",
       "| 5.51 | 4.68 |\n",
       "| 5.49 | 4.50 |\n",
       "\n"
      ],
      "text/plain": [
       "   Men  Women\n",
       "1  5.45 4.50 \n",
       "2  5.46 4.44 \n",
       "3  5.40 4.32 \n",
       "4  4.96 4.71 \n",
       "5  5.52 4.67 \n",
       "6  5.61 4.54 \n",
       "7  4.92 4.37 \n",
       "8  5.47 4.45 \n",
       "9  5.45 4.51 \n",
       "10 4.89 4.19 \n",
       "11 5.27 4.62 \n",
       "12 5.34 4.28 \n",
       "13 5.16 4.34 \n",
       "14 5.67 4.50 \n",
       "15 5.51 4.68 \n",
       "16 5.49 4.50 "
      ]
     },
     "metadata": {},
     "output_type": "display_data"
    }
   ],
   "source": [
    "Input = (\"Men \tWomen\n",
    "5.45 \t4.50\n",
    "5.46 \t4.44\n",
    "5.40 \t4.32\n",
    "4.96 \t4.71\n",
    "5.52 \t4.67\n",
    "5.61 \t4.54\n",
    "4.92 \t4.37\n",
    "5.47 \t4.45\n",
    "5.45 \t4.51\n",
    "4.89 \t4.19\n",
    "5.27 \t4.62\n",
    "5.34 \t4.28\n",
    "5.16 \t4.34\n",
    "5.67 \t4.50\n",
    "5.51 \t4.68\n",
    "5.49 \t4.50\")\n",
    "Data = as.data.frame(read.table(textConnection(Input), header = TRUE, sep = \"\\t\"))\n",
    "Data"
   ]
  },
  {
   "cell_type": "markdown",
   "metadata": {},
   "source": [
    "### 2. Check if the samples follow normal distribution"
   ]
  },
  {
   "cell_type": "code",
   "execution_count": 2,
   "metadata": {},
   "outputs": [
    {
     "data": {
      "text/plain": [
       "\n",
       "\tShapiro-Wilk normality test\n",
       "\n",
       "data:  Data$Men\n",
       "W = 0.87352, p-value = 0.0308\n"
      ]
     },
     "metadata": {},
     "output_type": "display_data"
    }
   ],
   "source": [
    "shapiro.test(Data$Men)"
   ]
  },
  {
   "cell_type": "markdown",
   "metadata": {},
   "source": [
    "Because `p-value` less than significance level of 0.05 we infer that men's FLI levels doesn't follow normal distribution"
   ]
  },
  {
   "cell_type": "code",
   "execution_count": 3,
   "metadata": {},
   "outputs": [
    {
     "data": {
      "text/plain": [
       "\n",
       "\tShapiro-Wilk normality test\n",
       "\n",
       "data:  Data$Women\n",
       "W = 0.96678, p-value = 0.7841\n"
      ]
     },
     "metadata": {},
     "output_type": "display_data"
    }
   ],
   "source": [
    "shapiro.test(Data$Women)"
   ]
  },
  {
   "cell_type": "markdown",
   "metadata": {},
   "source": [
    "`p-value` for women's FLI levels is greater than significance level of 0.05, hence it follows normal distribution"
   ]
  },
  {
   "cell_type": "markdown",
   "metadata": {},
   "source": [
    "### 3. Formulate the statistical hypotheses\n",
    "**Null hypothesis (H0):** FLI levels in men and women are the same\n",
    "\n",
    "**Alternative hypothesis (H1):** FLI levels in men and women are different"
   ]
  },
  {
   "cell_type": "markdown",
   "metadata": {},
   "source": [
    "### 4. Check if the samples are paired\n",
    "Because the subjects for whom the variable values were measured are different we're dealing with the independent variables."
   ]
  },
  {
   "cell_type": "markdown",
   "metadata": {},
   "source": [
    "### 5. Test the hypotheses"
   ]
  },
  {
   "cell_type": "code",
   "execution_count": 4,
   "metadata": {
    "scrolled": true
   },
   "outputs": [
    {
     "name": "stderr",
     "output_type": "stream",
     "text": [
      "Warning message in wilcox.test.default(Data$Men, Data$Women):\n",
      "\"cannot compute exact p-value with ties\""
     ]
    },
    {
     "data": {
      "text/plain": [
       "\n",
       "\tWilcoxon rank sum test with continuity correction\n",
       "\n",
       "data:  Data$Men and Data$Women\n",
       "W = 256, p-value = 1.528e-06\n",
       "alternative hypothesis: true location shift is not equal to 0\n"
      ]
     },
     "metadata": {},
     "output_type": "display_data"
    }
   ],
   "source": [
    "wilcox.test(Data$Men, Data$Women)"
   ]
  },
  {
   "cell_type": "markdown",
   "metadata": {},
   "source": [
    "Because `p-value` of a test is lower than the significance level of 0.05, we have to reject the null hypothesis and accept the alternative hypothesis. From this fact we derive that FLI levels in men and women with hypertension or metabolic syndrome is different.\n",
    "\n",
    "### Conclusion\n",
    "FLI levels in patients with hypertension or metabolic syndrome differs relative to patient's gender."
   ]
  }
 ],
 "metadata": {
  "kernelspec": {
   "display_name": "R",
   "language": "R",
   "name": "ir"
  },
  "language_info": {
   "codemirror_mode": "r",
   "file_extension": ".r",
   "mimetype": "text/x-r-source",
   "name": "R",
   "pygments_lexer": "r",
   "version": "3.6.1"
  }
 },
 "nbformat": 4,
 "nbformat_minor": 4
}
