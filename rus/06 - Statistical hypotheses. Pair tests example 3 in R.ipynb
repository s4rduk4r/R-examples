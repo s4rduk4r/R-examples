{
 "cells": [
  {
   "cell_type": "markdown",
   "metadata": {},
   "source": [
    "# Statistical hypotheses in R. Example 6\n",
    "## Two-sample paired test\n",
    "**Task.** New surgery method was tested by its influence on the luekocytes levels in blood on the animal models. Samples were taken from six subjects before and after surgery. Find if the surgery affects the leukocytes level in blood.\n",
    "\n",
    "Before surgery|After surgery\n",
    "-|-\n",
    "10.8|10.6\n",
    "12.9|16.6\n",
    "9.59|17.2\n",
    "8.81|14\n",
    "12|10.6\n",
    "6.07|8.6\n",
    "\n",
    "\n",
    "### 1.\tDefine the type of the variable\n",
    "Because the variable is a physical value (concentration) it's a numeric type of data.\n",
    "\n",
    "**Get data in R**"
   ]
  },
  {
   "cell_type": "code",
   "execution_count": 1,
   "metadata": {},
   "outputs": [
    {
     "data": {
      "text/html": [
       "<table>\n",
       "<thead><tr><th scope=col>Before.surgery</th><th scope=col>After.surgery</th></tr></thead>\n",
       "<tbody>\n",
       "\t<tr><td>10.80</td><td>10.6 </td></tr>\n",
       "\t<tr><td>12.90</td><td>16.6 </td></tr>\n",
       "\t<tr><td> 9.59</td><td>17.2 </td></tr>\n",
       "\t<tr><td> 8.81</td><td>14.0 </td></tr>\n",
       "\t<tr><td>12.00</td><td>10.6 </td></tr>\n",
       "\t<tr><td> 6.07</td><td> 8.6 </td></tr>\n",
       "</tbody>\n",
       "</table>\n"
      ],
      "text/latex": [
       "\\begin{tabular}{r|ll}\n",
       " Before.surgery & After.surgery\\\\\n",
       "\\hline\n",
       "\t 10.80 & 10.6 \\\\\n",
       "\t 12.90 & 16.6 \\\\\n",
       "\t  9.59 & 17.2 \\\\\n",
       "\t  8.81 & 14.0 \\\\\n",
       "\t 12.00 & 10.6 \\\\\n",
       "\t  6.07 &  8.6 \\\\\n",
       "\\end{tabular}\n"
      ],
      "text/markdown": [
       "\n",
       "| Before.surgery | After.surgery |\n",
       "|---|---|\n",
       "| 10.80 | 10.6  |\n",
       "| 12.90 | 16.6  |\n",
       "|  9.59 | 17.2  |\n",
       "|  8.81 | 14.0  |\n",
       "| 12.00 | 10.6  |\n",
       "|  6.07 |  8.6  |\n",
       "\n"
      ],
      "text/plain": [
       "  Before.surgery After.surgery\n",
       "1 10.80          10.6         \n",
       "2 12.90          16.6         \n",
       "3  9.59          17.2         \n",
       "4  8.81          14.0         \n",
       "5 12.00          10.6         \n",
       "6  6.07           8.6         "
      ]
     },
     "metadata": {},
     "output_type": "display_data"
    }
   ],
   "source": [
    "Input = (\"Before surgery \tAfter surgery\n",
    "10.8 \t10.6\n",
    "12.9 \t16.6\n",
    "9.59 \t17.2\n",
    "8.81 \t14\n",
    "12 \t10.6\n",
    "6.07 \t8.6\")\n",
    "Data = as.data.frame(read.table(textConnection(Input), header = TRUE, sep = \"\\t\"))\n",
    "Data"
   ]
  },
  {
   "cell_type": "markdown",
   "metadata": {},
   "source": [
    "### 2. Check if the samples follow normal distribution\n",
    "Let's automate the inference of whether sample follows normal distribution or not. To do so we'll make our custom function `Shapiro.Test()`. \n",
    "\n",
    "It'll take as a single argument out sample which we want to test. Inside the function body we'll test calculated `p-value` against the significance level of 0.05. If `p-value` exceeds the significance level, then we print message about sample being normally distributed. Otherwise we print message about sample not following normal distribution."
   ]
  },
  {
   "cell_type": "code",
   "execution_count": 2,
   "metadata": {},
   "outputs": [],
   "source": [
    "Shapiro.Test <- function(x) {\n",
    "    test_result = shapiro.test(x)\n",
    "    print(test_result)\n",
    "    if(test_result$p.value > 0.05) {\n",
    "        print(\"Normal distribution\")\n",
    "    } else {\n",
    "        print(\"Non-normal distribution\")\n",
    "    }\n",
    "}"
   ]
  },
  {
   "cell_type": "markdown",
   "metadata": {},
   "source": [
    "Let's put our newly created function to use and check if the Before surgery leukocyte levels follow normal distribution:"
   ]
  },
  {
   "cell_type": "code",
   "execution_count": 3,
   "metadata": {},
   "outputs": [
    {
     "name": "stdout",
     "output_type": "stream",
     "text": [
      "\n",
      "\tShapiro-Wilk normality test\n",
      "\n",
      "data:  x\n",
      "W = 0.96736, p-value = 0.8742\n",
      "\n",
      "[1] \"Normal distribution\"\n"
     ]
    }
   ],
   "source": [
    "Shapiro.Test(Data$Before.surgery)"
   ]
  },
  {
   "cell_type": "code",
   "execution_count": 4,
   "metadata": {
    "scrolled": true
   },
   "outputs": [
    {
     "name": "stdout",
     "output_type": "stream",
     "text": [
      "\n",
      "\tShapiro-Wilk normality test\n",
      "\n",
      "data:  x\n",
      "W = 0.90401, p-value = 0.3982\n",
      "\n",
      "[1] \"Normal distribution\"\n"
     ]
    }
   ],
   "source": [
    "Shapiro.Test(Data$After.surgery)"
   ]
  },
  {
   "cell_type": "markdown",
   "metadata": {},
   "source": [
    "As one can see both samples are normally distributed which means we have to use parametrical methods."
   ]
  },
  {
   "cell_type": "markdown",
   "metadata": {},
   "source": [
    "### 3. Check if the samples are paired\n",
    "To define if samples are paired we have to take another look on task conditions. There we can see that samples were taken from the *same* subjects *before* and *after* the surgery. Because we have the same objects as the source of data in the samples it makes them paired. Hence we have to use *paired t-test*."
   ]
  },
  {
   "cell_type": "markdown",
   "metadata": {},
   "source": [
    "### 4. Formulate the statistical hypotheses\n",
    "\n",
    "**Null hypothesis (H0):** Leukocytes levels in blood before and after the surgery are the same\n",
    "\n",
    "**Alternative hypothesis (H1):** Leukocytes levels in blood before and after the surgery are different"
   ]
  },
  {
   "cell_type": "markdown",
   "metadata": {},
   "source": [
    "### 5. Test the hypotheses"
   ]
  },
  {
   "cell_type": "code",
   "execution_count": 5,
   "metadata": {
    "scrolled": true
   },
   "outputs": [
    {
     "data": {
      "text/plain": [
       "\n",
       "\tPaired t-test\n",
       "\n",
       "data:  Data$Before.surgery and Data$After.surgery\n",
       "t = -2.1205, df = 5, p-value = 0.08745\n",
       "alternative hypothesis: true difference in means is not equal to 0\n",
       "95 percent confidence interval:\n",
       " -6.426633  0.616633\n",
       "sample estimates:\n",
       "mean of the differences \n",
       "                 -2.905 \n"
      ]
     },
     "metadata": {},
     "output_type": "display_data"
    }
   ],
   "source": [
    "t.test(Data$Before.surgery, Data$After.surgery, paired = TRUE)"
   ]
  },
  {
   "cell_type": "markdown",
   "metadata": {},
   "source": [
    "Test results show `p-value` exceeds the significance level of 0.05 and this means we have to reject the alternative hypothesis and accept the null hypothesis. (Task for the reader to automate the process of hypothesis rejection).\n",
    "\n",
    "### Conclusion\n",
    "\n",
    "Leukocytes levels in blood of the test subjects before and after the surgery were same. From this we infer that considered type of surgery doesn't affect the leukocytes level in blood."
   ]
  }
 ],
 "metadata": {
  "kernelspec": {
   "display_name": "R",
   "language": "R",
   "name": "ir"
  },
  "language_info": {
   "codemirror_mode": "r",
   "file_extension": ".r",
   "mimetype": "text/x-r-source",
   "name": "R",
   "pygments_lexer": "r",
   "version": "3.6.1"
  }
 },
 "nbformat": 4,
 "nbformat_minor": 4
}
