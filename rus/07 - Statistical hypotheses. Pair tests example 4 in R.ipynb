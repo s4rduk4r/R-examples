{
 "cells": [
  {
   "cell_type": "markdown",
   "metadata": {},
   "source": [
    "# Statistical hypotheses in R. Example 7\n",
    "## Two-sample test. Nominal data\n",
    "**Task.** During the investigation of a possible relation of smoking to hypertensia were tested 180 subjects. It was found that 66 subjects contained hypertensia among the smokers and 21 among the non-smokers. Normal state were registered in 45 cases among the smokers and 48 cases among the non-smokers. Are smokers have bigger proportion of hypertensia among themselves in comparison to non-smokers?\n",
    "\n",
    "### 1.\tDefine the type of the variable\n",
    "Because the variable has only two possible values (categories): hypertensia or normal state it's the nominal type of data.\n",
    "\n",
    "**Get data in R**"
   ]
  },
  {
   "cell_type": "code",
   "execution_count": 1,
   "metadata": {},
   "outputs": [
    {
     "data": {
      "text/html": [
       "<table>\n",
       "<thead><tr><th></th><th scope=col>Smokers</th><th scope=col>Non.smokers</th></tr></thead>\n",
       "<tbody>\n",
       "\t<tr><th scope=row> Hypertensia</th><td>66</td><td>21</td></tr>\n",
       "\t<tr><th scope=row> Normal state</th><td>45</td><td>48</td></tr>\n",
       "</tbody>\n",
       "</table>\n"
      ],
      "text/latex": [
       "\\begin{tabular}{r|ll}\n",
       "  & Smokers & Non.smokers\\\\\n",
       "\\hline\n",
       "\t Hypertensia & 66 & 21\\\\\n",
       "\t Normal state & 45 & 48\\\\\n",
       "\\end{tabular}\n"
      ],
      "text/markdown": [
       "\n",
       "| <!--/--> | Smokers | Non.smokers |\n",
       "|---|---|---|\n",
       "|  Hypertensia | 66 | 21 |\n",
       "|  Normal state | 45 | 48 |\n",
       "\n"
      ],
      "text/plain": [
       "              Smokers Non.smokers\n",
       " Hypertensia  66      21         \n",
       " Normal state 45      48         "
      ]
     },
     "metadata": {},
     "output_type": "display_data"
    }
   ],
   "source": [
    "Input = (\n",
    "\"Group, Smokers,Non-smokers\n",
    " Hypertensia, 66, 21\n",
    " Normal state, 45, 48\"\n",
    ")\n",
    "Data = as.data.frame(read.csv(textConnection(Input), header = TRUE, row.names = 1))\n",
    "Data"
   ]
  },
  {
   "cell_type": "markdown",
   "metadata": {},
   "source": [
    "### 2. Check if the samples are paired\n",
    "Because we have study with the control group (non-smokers) it means that the source subjects were different for each of the variable and the samples are not paired. For non-paired nominal samples we should use `prop.test` with tested data provided as matrix.\n",
    "\n",
    "### 3. Formulate the statistical hypotheses\n",
    "\n",
    "**Null hypothesis (H0):** proportion of subjects with hypertensia is the same among smokers and non-smokers\n",
    "\n",
    "**Alternative hypothesis (H1):** proportion of subjects with hypertensia among smokers and non-smokers is different"
   ]
  },
  {
   "cell_type": "markdown",
   "metadata": {},
   "source": [
    "### 4. Test the hypotheses"
   ]
  },
  {
   "cell_type": "code",
   "execution_count": 2,
   "metadata": {},
   "outputs": [
    {
     "data": {
      "text/plain": [
       "\n",
       "\t2-sample test for equality of proportions with continuity correction\n",
       "\n",
       "data:  as.matrix(t(Data))\n",
       "X-squared = 13.215, df = 1, p-value = 0.0002777\n",
       "alternative hypothesis: two.sided\n",
       "95 percent confidence interval:\n",
       " 0.1366177 0.4438759\n",
       "sample estimates:\n",
       "   prop 1    prop 2 \n",
       "0.5945946 0.3043478 \n"
      ]
     },
     "metadata": {},
     "output_type": "display_data"
    }
   ],
   "source": [
    "prop.test(as.matrix(t(Data)))"
   ]
  },
  {
   "cell_type": "markdown",
   "metadata": {},
   "source": [
    "Proportion test's `p-value` is several powers of tens lesser than the significance level of 0.05 and evidently shows that null hypothesis has to be rejected and alternative hypothesis has to be accepted.\n",
    "\n",
    "### Conclusion\n",
    "\n",
    "Proportion of subjects with hypertensia among smokers and non-smokers is different, which means that smoking habits affects the rate of hypertensia."
   ]
  }
 ],
 "metadata": {
  "kernelspec": {
   "display_name": "R",
   "language": "R",
   "name": "ir"
  },
  "language_info": {
   "codemirror_mode": "r",
   "file_extension": ".r",
   "mimetype": "text/x-r-source",
   "name": "R",
   "pygments_lexer": "r",
   "version": "3.6.1"
  }
 },
 "nbformat": 4,
 "nbformat_minor": 4
}
