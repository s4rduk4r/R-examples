{
 "cells": [
  {
   "cell_type": "markdown",
   "metadata": {},
   "source": [
    "# Statistical hypotheses in R. Example 8\n",
    "## Two-sample paired test. Nominal data\n",
    "**Task.** In study of [consolidation therapy](https://doi.org/10.1182/blood-2012-02-408898) efficacy 161 myeloma patients received consolidation therapy of thalidomide-dexamethasone (TD) three months after stem cell therapy. Complete response (CR) was measured before and after consolidation. The data is presented in a table below. Check if the consolidation therapy of TD affected the complete response rates. Test your findings against the article conclusion?\n",
    "\n",
    "Response status|After consolidation therapy,|N\n",
    "-|-|-\n",
    "Before consolidation therapy|**CR**|**No CR**\n",
    "**CR**|59|6\n",
    "**No CR**|16|80\n",
    "\n",
    "\n",
    "### 1.\tDefine the type of the variable\n",
    "Because the variable has only two possible values (categories): complete response (CR) or no complete response (No CR) it's the nominal type of data.\n",
    "\n",
    "**Get data in R**"
   ]
  },
  {
   "cell_type": "code",
   "execution_count": 1,
   "metadata": {},
   "outputs": [
    {
     "data": {
      "text/html": [
       "<table>\n",
       "<thead><tr><th></th><th scope=col>CR</th><th scope=col>NoCR</th></tr></thead>\n",
       "<tbody>\n",
       "\t<tr><th scope=row>    CR</th><td>59</td><td> 6</td></tr>\n",
       "\t<tr><th scope=row>    NoCR</th><td>16</td><td>80</td></tr>\n",
       "</tbody>\n",
       "</table>\n"
      ],
      "text/latex": [
       "\\begin{tabular}{r|ll}\n",
       "  & CR & NoCR\\\\\n",
       "\\hline\n",
       "\t    CR & 59 &  6\\\\\n",
       "\t    NoCR & 16 & 80\\\\\n",
       "\\end{tabular}\n"
      ],
      "text/markdown": [
       "\n",
       "| <!--/--> | CR | NoCR |\n",
       "|---|---|---|\n",
       "|     CR | 59 |  6 |\n",
       "|     NoCR | 16 | 80 |\n",
       "\n"
      ],
      "text/plain": [
       "         CR NoCR\n",
       "    CR   59  6  \n",
       "    NoCR 16 80  "
      ]
     },
     "metadata": {},
     "output_type": "display_data"
    }
   ],
   "source": [
    "Input = (\n",
    "    \"Before consolidation therapy, CR, NoCR\n",
    "    CR,59,6\n",
    "    NoCR,16,80\"\n",
    ")\n",
    "Data = as.matrix(read.csv(textConnection(Input), header = TRUE, row.names = 1))\n",
    "Data"
   ]
  },
  {
   "cell_type": "markdown",
   "metadata": {},
   "source": [
    "### 2. Check if the samples are paired\n",
    "The patients in the study are the same, which means that data is paired. We have to use McNemar test to assess if the therapy was a success. To apply this test we'll use `mcnemar.test` function.\n",
    "\n",
    "### 3. Formulate the statistical hypotheses\n",
    "\n",
    "**Null hypothesis (H0):** proportion of complete responses before and after the TD therapy is the same\n",
    "\n",
    "**Alternative hypothesis (H1):** proportion of complete responses before and after the TD therapy differs"
   ]
  },
  {
   "cell_type": "markdown",
   "metadata": {},
   "source": [
    "### 4. Test the hypotheses"
   ]
  },
  {
   "cell_type": "code",
   "execution_count": 2,
   "metadata": {},
   "outputs": [
    {
     "data": {
      "text/plain": [
       "\n",
       "\tMcNemar's Chi-squared test with continuity correction\n",
       "\n",
       "data:  Data\n",
       "McNemar's chi-squared = 3.6818, df = 1, p-value = 0.05501\n"
      ]
     },
     "metadata": {},
     "output_type": "display_data"
    }
   ],
   "source": [
    "mcnemar.test(Data)"
   ]
  },
  {
   "cell_type": "markdown",
   "metadata": {},
   "source": [
    "Becuase test's `p-value` is greater than the significance level of 0.05 we have to reject the alternative hypothesis and accept the null hypothesis. This means that proportion of complete responses before and after the TD therapy is the same. This conlusion is in agreement of the findings published in the article.\n",
    "\n",
    "To quote the part of article [abstract](https://pubmed.ncbi.nlm.nih.gov/22498745/#abstract)\n",
    ">VTD consolidation significantly increased CR and CR/nCR rates, but TD did not (McNemar test). \n",
    "\n",
    "### Conclusion\n",
    "\n",
    "The complete response rates in the myeloma patients before and after the TD therapy is the same."
   ]
  }
 ],
 "metadata": {
  "kernelspec": {
   "display_name": "R",
   "language": "R",
   "name": "ir"
  },
  "language_info": {
   "codemirror_mode": "r",
   "file_extension": ".r",
   "mimetype": "text/x-r-source",
   "name": "R",
   "pygments_lexer": "r",
   "version": "3.6.1"
  }
 },
 "nbformat": 4,
 "nbformat_minor": 4
}
