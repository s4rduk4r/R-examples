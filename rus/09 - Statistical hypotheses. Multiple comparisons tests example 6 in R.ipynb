{
 "cells": [
  {
   "cell_type": "markdown",
   "metadata": {},
   "source": [
    "# Statistical hypotheses in R. Example 9\n",
    "## Multiple comparisons test. Numeric data\n",
    "**Task.** Let’s consider an experiment to compare the effects of three different food regimes on lipoprotein levels in human infants. A group of 10 newborn infants was fed human milk (HM), another group of 10 received milk formula (MF) and a third group received nucleotide supplemented milk formula (NMF). After four weeks, their levels of high density lipoprotein (HDL)\n",
    "were measured and are given in a table below:\n",
    "\n",
    "HM|MF|NMF\n",
    "-|-|-\n",
    "56|40|71\n",
    "63|48|57\n",
    "45|60|64\n",
    "41|38|44\n",
    "71|28|73\n",
    "60|44|50\n",
    "78|66|79\n",
    "50|22|67\n",
    "68|45|84\n",
    "62|54|61\n",
    "\n",
    "\n",
    "### 1.\tDefine the type of the variable\n",
    "Because the variables are the physical measure (concentration) we're dealing with the numeric data.\n",
    "\n",
    "**Get data in R**\n",
    "\n",
    "Before processing the data from the task, one has to take into account that R expects the data for the multiple comparisons to be in a specific format. Each row of an input table has to have name of the group and value of HDL. It's because the multiple comparison methods and corresponding R functions treat multiple group data as a combination of nominal and numeric data. In our case it's one nominal variable (factor in R terms) group GRP with 3 levels: HM, MF, NMF and one numeric variable HDL.\n",
    "\n",
    "One has to transform the original table in some external software. Any spreadsheet engine of your choice will do (MS Excel, LibreOffice Calc, Google Sheets). The final form of ready to process data is presented in a table below:\n",
    "\n",
    "GRP|HDL\n",
    "-|-\n",
    "HM|56\n",
    "HM|63\n",
    "HM|45\n",
    "HM|41\n",
    "HM|71\n",
    "HM|60\n",
    "HM|78\n",
    "HM|50\n",
    "HM|68\n",
    "HM|62\n",
    "MF|40\n",
    "MF|48\n",
    "MF|60\n",
    "MF|38\n",
    "MF|28\n",
    "MF|44\n",
    "MF|66\n",
    "MF|22\n",
    "MF|45\n",
    "MF|54\n",
    "NMF|71\n",
    "NMF|57\n",
    "NMF|64\n",
    "NMF|44\n",
    "NMF|73\n",
    "NMF|50\n",
    "NMF|79\n",
    "NMF|67\n",
    "NMF|84\n",
    "NMF|61\n"
   ]
  },
  {
   "cell_type": "code",
   "execution_count": 1,
   "metadata": {},
   "outputs": [
    {
     "name": "stdout",
     "output_type": "stream",
     "text": [
      "'data.frame':\t30 obs. of  2 variables:\n",
      " $ GRP: Factor w/ 3 levels \"HM\",\"MF\",\"NMF\": 1 1 1 1 1 1 1 1 1 1 ...\n",
      " $ HDL: int  56 63 45 41 71 60 78 50 68 62 ...\n"
     ]
    }
   ],
   "source": [
    "Input = (\n",
    "    \"GRP,HDL\n",
    "HM,56\n",
    "HM,63\n",
    "HM,45\n",
    "HM,41\n",
    "HM,71\n",
    "HM,60\n",
    "HM,78\n",
    "HM,50\n",
    "HM,68\n",
    "HM,62\n",
    "MF,40\n",
    "MF,48\n",
    "MF,60\n",
    "MF,38\n",
    "MF,28\n",
    "MF,44\n",
    "MF,66\n",
    "MF,22\n",
    "MF,45\n",
    "MF,54\n",
    "NMF,71\n",
    "NMF,57\n",
    "NMF,64\n",
    "NMF,44\n",
    "NMF,73\n",
    "NMF,50\n",
    "NMF,79\n",
    "NMF,67\n",
    "NMF,84\n",
    "NMF,61\"\n",
    ")\n",
    "Data = read.csv(textConnection(Input), header = TRUE, \n",
    "                strip.white = TRUE,                # Remove the whitespace characters from the input strings\n",
    "                stringsAsFactors = TRUE)           # Convert the strings into nominal data\n",
    "str(Data)"
   ]
  },
  {
   "cell_type": "markdown",
   "metadata": {},
   "source": [
    "As one can see the imported data frame `Data` holds one nominal variable `GRP` with 3 levels \"HM\", \"MF\", \"NMF\" and one numeric data `HDL`. "
   ]
  },
  {
   "cell_type": "markdown",
   "metadata": {},
   "source": [
    "### 2. Check if the samples follow normal distribution\n",
    "In case one wonders how we get only the needed values for the upcoming normal distribution check, worry not for R has a very concise way to do so. E.g. to get only the values for the human milk HM group one has to type `Data$HDL[Data$GRP == \"HM\"]`. This notation tells R to get the values of the HDL variable from the whole dataset if it's corresponding GRP variable equals to factor value of \"HM\". The double equal sign `==` mean equals and is a logical comparison operator. It tests the values on the left and right sides against each other and returns TRUE if both of them are equal, otherwise it return FALSE."
   ]
  },
  {
   "cell_type": "code",
   "execution_count": 2,
   "metadata": {},
   "outputs": [
    {
     "data": {
      "text/plain": [
       "\n",
       "\tShapiro-Wilk normality test\n",
       "\n",
       "data:  Data$HDL[Data$GRP == \"HM\"]\n",
       "W = 0.97975, p-value = 0.9638\n"
      ]
     },
     "metadata": {},
     "output_type": "display_data"
    },
    {
     "data": {
      "text/plain": [
       "\n",
       "\tShapiro-Wilk normality test\n",
       "\n",
       "data:  Data$HDL[Data$GRP == \"MF\"]\n",
       "W = 0.9826, p-value = 0.9775\n"
      ]
     },
     "metadata": {},
     "output_type": "display_data"
    },
    {
     "data": {
      "text/plain": [
       "\n",
       "\tShapiro-Wilk normality test\n",
       "\n",
       "data:  Data$HDL[Data$GRP == \"NMF\"]\n",
       "W = 0.98636, p-value = 0.9901\n"
      ]
     },
     "metadata": {},
     "output_type": "display_data"
    }
   ],
   "source": [
    "# Normal distribution check for HM group\n",
    "shapiro.test(Data$HDL[Data$GRP == \"HM\"])\n",
    "# Normal distribution check for MF group\n",
    "shapiro.test(Data$HDL[Data$GRP == \"MF\"])\n",
    "# Normal distribution check for NMF group\n",
    "shapiro.test(Data$HDL[Data$GRP == \"NMF\"])"
   ]
  },
  {
   "cell_type": "markdown",
   "metadata": {},
   "source": [
    "As one can see for every tested group their `p-value` is greater than the significance level of 0.05 which means all the groups follow the normal distribution. We have to use the parametrical methods."
   ]
  },
  {
   "cell_type": "markdown",
   "metadata": {},
   "source": [
    "### 3. Formulate the statistical hypotheses\n",
    "\n",
    "**Null hypothesis (H0):** levels of high density lipoprotein (HDL) are the same for all milk formulae\n",
    "\n",
    "**Alternative hypothesis (H1):** levels of high density lipoprotein (HDL) are different for all milk formulae"
   ]
  },
  {
   "cell_type": "markdown",
   "metadata": {},
   "source": [
    "### 4. Testing the hypotheses\n",
    "The parametrical method for the multiple comparison test for one nominal and one numeric data like in our case is a *one-way ANOVA*. This method is implemented in R as `oneway.test` function. It accepts at least one argument which R names formula and in essence is a short form of representing the relation between the tested variables. The independent variable is specified on the right side of the `~` sign and the dependent variable is provided on the left side. In *one-way ANOVA* the independent variable is always a nominal variable, so the format of the formula argument is `NumericVar ~ NominalVar`.\n",
    "\n",
    "Second argument `var.equal = TRUE` serves the purpose of initiating the variance comparison which can improve the precision of the `p-value`"
   ]
  },
  {
   "cell_type": "code",
   "execution_count": 3,
   "metadata": {},
   "outputs": [
    {
     "data": {
      "text/plain": [
       "\n",
       "\tOne-way analysis of means\n",
       "\n",
       "data:  Data$HDL and Data$GRP\n",
       "F = 7.0909, num df = 2, denom df = 27, p-value = 0.003349\n"
      ]
     },
     "metadata": {},
     "output_type": "display_data"
    }
   ],
   "source": [
    "oneway.test(Data$HDL ~ Data$GRP, var.equal = TRUE)"
   ]
  },
  {
   "cell_type": "markdown",
   "metadata": {},
   "source": [
    "The result of the test shows that we have to reject the null hypothesis (`p-value` < 0.05) and accept the alternative hypothesis.\n",
    "\n",
    "It means that the levels of high density lipoprotein (HDL) are different for all milk formulae.\n",
    "\n",
    "We can try to figure out which formula behaves in a different way among the three. To do so we have to perform the pairwise tests for all of the milk formulae. Fortunately we don't have to do it manually and will use the `pairwise.t.test` function.\n",
    "\n",
    "To get rid of possible errors in the resulting `p-value` we'll have to specify the p-value correction method along with the tested data. We'll use the Bonferroni correction method (for the details one can address this [book](http://www.biostathandbook.com/multiplecomparisons.html))."
   ]
  },
  {
   "cell_type": "code",
   "execution_count": 4,
   "metadata": {
    "scrolled": true
   },
   "outputs": [
    {
     "data": {
      "text/plain": [
       "\n",
       "\tPairwise comparisons using t tests with pooled SD \n",
       "\n",
       "data:  Data$HDL and Data$GRP \n",
       "\n",
       "    HM     MF    \n",
       "MF  0.0401 -     \n",
       "NMF 0.9855 0.0034\n",
       "\n",
       "P value adjustment method: bonferroni "
      ]
     },
     "metadata": {},
     "output_type": "display_data"
    }
   ],
   "source": [
    "pairwise.t.test(Data$HDL, Data$GRP, p.adjust.method = \"bonferroni\")"
   ]
  },
  {
   "cell_type": "markdown",
   "metadata": {},
   "source": [
    "The result of the function is presented as a matrix of `p-values` calculated for each of the group pair. As one can see the substances of HM and NMF get the same levels of HDL in infants while MF gives different levels of HDL. It means that the source of difference shown in the one-way ANOVA test is the administering of milk formula (MF) milk diet."
   ]
  },
  {
   "cell_type": "markdown",
   "metadata": {},
   "source": [
    "### Conclusion\n",
    "Levels of high density lipoprotein (HDL) are different for all milk formulae because of how the milk formula MF diet affects the HDL.\n"
   ]
  }
 ],
 "metadata": {
  "kernelspec": {
   "display_name": "R",
   "language": "R",
   "name": "ir"
  },
  "language_info": {
   "codemirror_mode": "r",
   "file_extension": ".r",
   "mimetype": "text/x-r-source",
   "name": "R",
   "pygments_lexer": "r",
   "version": "3.6.1"
  }
 },
 "nbformat": 4,
 "nbformat_minor": 4
}
