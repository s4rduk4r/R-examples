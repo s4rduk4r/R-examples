{
 "cells": [
  {
   "cell_type": "markdown",
   "metadata": {},
   "source": [
    "# Statistical hypotheses in R. Example 10\n",
    "## Multiple comparisons test. Numeric data\n",
    "**Task.** Three groups of 1 month old mice were subjected to the diet effect study. The mice were administered to the standard food rations with additional dietary suppplements F1, F2, F3 during the month. At the end of the study the body mass changes (BMC) were measured and garnered in a table below. Find if the effect of the body mass change is related to the specific dietary supplement.\n",
    "\n",
    "F1|F2|F3\n",
    "-|-|-\n",
    "7.1|7.6|9.2\n",
    "7.0|7.3|8.3\n",
    "7.0|7.3|9.1\n",
    "8.6|8.3|9.0\n",
    "8.2|7.6|8.9\n",
    "6.6|6.6|9.0\n",
    "6.8|6.7|9.2\n",
    "6.7|6.8|7.6\n",
    "7.7|7.0|8.1\n",
    "\n",
    "### 1.\tDefine the type of the variable\n",
    "Because the variables are fractions and so they have an infinite spectrum of values we're dealing with the numeric data.\n",
    "\n",
    "**Get data in R**\n",
    "\n",
    "Before processing the data from the task, one has to take into account that R expects the data for the multiple comparisons to be in a specific format. Each row of an input table has to have name of the group and value of BMC. It's because the multiple comparison methods and corresponding R functions treat multiple group data as a combination of nominal and numeric data. In our case it's one nominal variable (factor in R terms) group *GRP* with 3 levels: F1, F2, F3 and one numeric variable *BMC*.\n",
    "\n",
    "One has to transform the original table in some external software. Any spreadsheet engine of your choice will do (MS Excel, LibreOffice Calc, Google Sheets). The final form of ready to process data is presented in a table below:\n",
    "\n",
    "GRP|BMC\n",
    "-|-\n",
    "F1|7.1\n",
    "F1|7.0\n",
    "F1|7.0\n",
    "F1|8.6\n",
    "F1|8.2\n",
    "F1|6.6\n",
    "F1|6.8\n",
    "F1|6.7\n",
    "F1|7.7\n",
    "F2|7.6\n",
    "F2|7.3\n",
    "F2|7.3\n",
    "F2|8.3\n",
    "F2|7.6\n",
    "F2|6.6\n",
    "F2|6.7\n",
    "F2|6.8\n",
    "F2|7.0\n",
    "F3|9.2\n",
    "F3|8.3\n",
    "F3|9.1\n",
    "F3|9.0\n",
    "F3|8.9\n",
    "F3|9.0\n",
    "F3|9.2\n",
    "F3|7.6\n",
    "F3|8.1\n"
   ]
  },
  {
   "cell_type": "code",
   "execution_count": 1,
   "metadata": {},
   "outputs": [
    {
     "name": "stdout",
     "output_type": "stream",
     "text": [
      "'data.frame':\t27 obs. of  2 variables:\n",
      " $ GRP: Factor w/ 3 levels \"F1\",\"F2\",\"F3\": 1 1 1 1 1 1 1 1 1 2 ...\n",
      " $ BMC: num  7.1 7 7 8.6 8.2 6.6 6.8 6.7 7.7 7.6 ...\n"
     ]
    }
   ],
   "source": [
    "Input = (\n",
    "    \"GRP,BMC\n",
    "F1,7.1\n",
    "F1,7.0\n",
    "F1,7.0\n",
    "F1,8.6\n",
    "F1,8.2\n",
    "F1,6.6\n",
    "F1,6.8\n",
    "F1,6.7\n",
    "F1,7.7\n",
    "F2,7.6\n",
    "F2,7.3\n",
    "F2,7.3\n",
    "F2,8.3\n",
    "F2,7.6\n",
    "F2,6.6\n",
    "F2,6.7\n",
    "F2,6.8\n",
    "F2,7.0\n",
    "F3,9.2\n",
    "F3,8.3\n",
    "F3,9.1\n",
    "F3,9.0\n",
    "F3,8.9\n",
    "F3,9.0\n",
    "F3,9.2\n",
    "F3,7.6\n",
    "F3,8.1\"\n",
    ")\n",
    "Data = read.csv(textConnection(Input), header = TRUE, \n",
    "                strip.white = TRUE,                # Remove the whitespace characters from the input strings\n",
    "                stringsAsFactors = TRUE)           # Convert the strings into nominal data\n",
    "str(Data)"
   ]
  },
  {
   "cell_type": "markdown",
   "metadata": {},
   "source": [
    "As one can see the imported data frame `Data` holds one nominal variable `GRP` with 3 levels \"F1\", \"F2\", \"F3\" and one numeric data `BMC`. "
   ]
  },
  {
   "cell_type": "markdown",
   "metadata": {},
   "source": [
    "### 2. Check if the samples follow normal distribution\n",
    "To get only the needed values for the upcoming normal distribution check we have to specify which categories not to ignore. E.g. to get only the values for the F1 group one has to type `Data$BMC[Data$GRP == \"F1\"]`. This notation tells R to get the values of the BMC variable from the whole dataset if it's corresponding GRP variable equals to factor value of \"F1\". The double equal sign `==` mean equals and is a logical comparison operator. It tests the values on the left and right sides against each other and returns TRUE if both of them are equal, otherwise it return FALSE."
   ]
  },
  {
   "cell_type": "code",
   "execution_count": 2,
   "metadata": {},
   "outputs": [
    {
     "data": {
      "text/plain": [
       "\n",
       "\tShapiro-Wilk normality test\n",
       "\n",
       "data:  Data$BMC[Data$GRP == \"F1\"]\n",
       "W = 0.86142, p-value = 0.09936\n"
      ]
     },
     "metadata": {},
     "output_type": "display_data"
    },
    {
     "data": {
      "text/plain": [
       "\n",
       "\tShapiro-Wilk normality test\n",
       "\n",
       "data:  Data$BMC[Data$GRP == \"F2\"]\n",
       "W = 0.93473, p-value = 0.5277\n"
      ]
     },
     "metadata": {},
     "output_type": "display_data"
    },
    {
     "data": {
      "text/plain": [
       "\n",
       "\tShapiro-Wilk normality test\n",
       "\n",
       "data:  Data$BMC[Data$GRP == \"F3\"]\n",
       "W = 0.82447, p-value = 0.0387\n"
      ]
     },
     "metadata": {},
     "output_type": "display_data"
    }
   ],
   "source": [
    "# Normal distribution check for F1 group\n",
    "shapiro.test(Data$BMC[Data$GRP == \"F1\"])\n",
    "# Normal distribution check for F2 group\n",
    "shapiro.test(Data$BMC[Data$GRP == \"F2\"])\n",
    "# Normal distribution check for F3 group\n",
    "shapiro.test(Data$BMC[Data$GRP == \"F3\"])"
   ]
  },
  {
   "cell_type": "markdown",
   "metadata": {},
   "source": [
    "From the results obtained for the normal distribution check step we derive that F1, F2 follow normal distribution and F3 doesn't follow normal distribution. This means we have to use non-parametric methods."
   ]
  },
  {
   "cell_type": "markdown",
   "metadata": {},
   "source": [
    "### 3. Formulate the statistical hypotheses\n",
    "\n",
    "**Null hypothesis (H0):** Body mass changes are the same for all three dietary supplements\n",
    "\n",
    "**Alternative hypothesis (H1):** Body mass changes is different for all three dietary supplements"
   ]
  },
  {
   "cell_type": "markdown",
   "metadata": {},
   "source": [
    "### 4. Testing the hypotheses\n",
    "The non-parametrical method for the multiple comparison test of one nominal and one numeric data like in our case is a *Kruskal-Wallis Rank Sum Test*. This method can be thought of as a non-parametrical analogue of ANOVA and is implemented in R as `kruskal.test` function. It accepts at least one argument which R names formula and in essence is a short form of representing the relation between the tested variables. The independent variable is specified on the right side of the `~` sign and the dependent variable is provided on the left side. In *Kruskal-Wallis Rank Sum Test* the independent variable is always a nominal variable, so the format of the formula argument is `NumericVar ~ NominalVar`."
   ]
  },
  {
   "cell_type": "code",
   "execution_count": 3,
   "metadata": {},
   "outputs": [
    {
     "data": {
      "text/plain": [
       "\n",
       "\tKruskal-Wallis rank sum test\n",
       "\n",
       "data:  Data$BMC by Data$GRP\n",
       "Kruskal-Wallis chi-squared = 13.592, df = 2, p-value = 0.001118\n"
      ]
     },
     "metadata": {},
     "output_type": "display_data"
    }
   ],
   "source": [
    "kruskal.test(Data$BMC ~ Data$GRP)"
   ]
  },
  {
   "cell_type": "markdown",
   "metadata": {},
   "source": [
    "The result of the test shows that we have to reject the null hypothesis (`p-value` < 0.05) and accept the alternative hypothesis.\n",
    "\n",
    "It means that different dietary supplements change body mass differently.\n",
    "\n",
    "We'll try to figure out which dietary supplement affects the body mass in a different way among the three. To do so we have to perform the pairwise tests for all supplements. To do so we'll use the `pairwise.wilcox.test` function which can be thought of as a non-parametric version of `pairwise.t.test`. \n",
    "\n",
    "To get rid of possible errors in the resulting `p-value` we'll have to specify the p-value correction method along with the tested data. We'll use the Bonferroni correction method (for the details one can address this [book](http://www.biostathandbook.com/multiplecomparisons.html))."
   ]
  },
  {
   "cell_type": "code",
   "execution_count": 4,
   "metadata": {
    "scrolled": true
   },
   "outputs": [
    {
     "name": "stderr",
     "output_type": "stream",
     "text": [
      "Warning message in wilcox.test.default(xi, xj, paired = paired, ...):\n",
      "\"cannot compute exact p-value with ties\"Warning message in wilcox.test.default(xi, xj, paired = paired, ...):\n",
      "\"cannot compute exact p-value with ties\"Warning message in wilcox.test.default(xi, xj, paired = paired, ...):\n",
      "\"cannot compute exact p-value with ties\""
     ]
    },
    {
     "data": {
      "text/plain": [
       "\n",
       "\tPairwise comparisons using Wilcoxon rank sum test \n",
       "\n",
       "data:  Data$BMC and Data$GRP \n",
       "\n",
       "   F1     F2    \n",
       "F2 1.0000 -     \n",
       "F3 0.0079 0.0036\n",
       "\n",
       "P value adjustment method: bonferroni "
      ]
     },
     "metadata": {},
     "output_type": "display_data"
    }
   ],
   "source": [
    "pairwise.wilcox.test(Data$BMC, Data$GRP, p.adjust.method = \"bonferroni\")"
   ]
  },
  {
   "cell_type": "markdown",
   "metadata": {},
   "source": [
    "The result of the function is presented as a matrix of `p-values` calculated for each of the group pair. As one can see the supplements of F1 and F2 affect the body mass change in a similar way while F3 affects the body mass in a different way. It means that the source of difference in body mass change shown in the Kruskal-Wallis Rank Sum test is the addition of F3 dietary supplement to the standard ration."
   ]
  },
  {
   "cell_type": "markdown",
   "metadata": {},
   "source": [
    "### Conclusion\n",
    "Different dietary supplements change body mass differently. The addition of F3 dietary supplement to the standard ration affects body mass change in a different way among the studied food additions."
   ]
  }
 ],
 "metadata": {
  "kernelspec": {
   "display_name": "R",
   "language": "R",
   "name": "ir"
  },
  "language_info": {
   "codemirror_mode": "r",
   "file_extension": ".r",
   "mimetype": "text/x-r-source",
   "name": "R",
   "pygments_lexer": "r",
   "version": "3.6.1"
  }
 },
 "nbformat": 4,
 "nbformat_minor": 4
}
