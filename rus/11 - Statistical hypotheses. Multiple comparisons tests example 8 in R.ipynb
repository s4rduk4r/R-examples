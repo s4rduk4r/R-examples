{
 "cells": [
  {
   "cell_type": "markdown",
   "metadata": {},
   "source": [
    "# Statistical hypotheses in R. Example 11\n",
    "## Multiple comparisons test. Nominal data\n",
    "**Task.** During the study of recurrent urinary tract infections in girls of age 3-16 years old the treatment efficacy for three antibacterial drugs was assesed. All patients were subject to the short treatment course with randomly administered drug. A year after the course repeat of urine culture was made for all of the patients. If bacteriuria was found during the test then relapse was ascertained. The results are below:\n",
    "\n",
    "Drug|Relapse|Norm\n",
    "-|-|-\n",
    "Ampicillin|20|7\n",
    "Trimethoprim|24|21\n",
    "Cephalexin|28|4\n",
    "\n",
    "Is there a reason to assume different drug efficacy? If yes, then which drug is the most efficient?\n",
    "\n",
    "\n",
    "### 1.\tDefine the type of the variable\n",
    "Because the variables have only two possible values-categories (relaplse, norm) then we're dealing with the nominal data.\n",
    "\n",
    "**Get data in R**"
   ]
  },
  {
   "cell_type": "code",
   "execution_count": 1,
   "metadata": {},
   "outputs": [
    {
     "data": {
      "text/html": [
       "<table>\n",
       "<thead><tr><th></th><th scope=col>Ampicillin</th><th scope=col>Trimethoprim</th><th scope=col>Cephalexin</th></tr></thead>\n",
       "<tbody>\n",
       "\t<tr><th scope=row>     Relapse</th><td>20</td><td>24</td><td>28</td></tr>\n",
       "\t<tr><th scope=row>     Norm</th><td> 7</td><td>21</td><td> 4</td></tr>\n",
       "</tbody>\n",
       "</table>\n"
      ],
      "text/latex": [
       "\\begin{tabular}{r|lll}\n",
       "  & Ampicillin & Trimethoprim & Cephalexin\\\\\n",
       "\\hline\n",
       "\t     Relapse & 20 & 24 & 28\\\\\n",
       "\t     Norm &  7 & 21 &  4\\\\\n",
       "\\end{tabular}\n"
      ],
      "text/markdown": [
       "\n",
       "| <!--/--> | Ampicillin | Trimethoprim | Cephalexin |\n",
       "|---|---|---|---|\n",
       "|      Relapse | 20 | 24 | 28 |\n",
       "|      Norm |  7 | 21 |  4 |\n",
       "\n"
      ],
      "text/plain": [
       "             Ampicillin Trimethoprim Cephalexin\n",
       "     Relapse 20         24           28        \n",
       "     Norm     7         21            4        "
      ]
     },
     "metadata": {},
     "output_type": "display_data"
    }
   ],
   "source": [
    "Input = (\n",
    "     \"Drug,Ampicillin, Trimethoprim, Cephalexin\n",
    "     Relapse,20, 24, 28\n",
    "     Norm, 7, 21, 4\"\n",
    ")\n",
    "# Note the square brackets encasing the CSV-reader below. \n",
    "# This will allow to store the results in the variable and show them on screen\n",
    "(Data = read.csv(textConnection(Input), header = TRUE, row.names = 1))"
   ]
  },
  {
   "cell_type": "markdown",
   "metadata": {},
   "source": [
    "### 2. Formulate the statistical hypotheses\n",
    "\n",
    "**Null hypothesis (H0):** Relapse rates for all three drugs are the same\n",
    "\n",
    "**Alternative hypothesis (H1):** Relapse rates for all three drugs are different"
   ]
  },
  {
   "cell_type": "markdown",
   "metadata": {},
   "source": [
    "### 3. Testing the hypotheses\n",
    "To get the multiple comparisons in nominal data one has to use either `prop.test` or `chisq.test` function. Both functions use the same method Chi-square and expect the data to be provided as a matrix with 2-columns (number of successess and failures). It means we have to convert our variable into matrix with `as.matrix` function and transpose it with `t` function to get the groups as rows and categories as columns."
   ]
  },
  {
   "cell_type": "code",
   "execution_count": 2,
   "metadata": {},
   "outputs": [
    {
     "data": {
      "text/plain": [
       "\n",
       "\t3-sample test for equality of proportions without continuity\n",
       "\tcorrection\n",
       "\n",
       "data:  as.matrix(t(Data))\n",
       "X-squared = 10.65, df = 2, p-value = 0.004868\n",
       "alternative hypothesis: two.sided\n",
       "sample estimates:\n",
       "   prop 1    prop 2    prop 3 \n",
       "0.7407407 0.5333333 0.8750000 \n"
      ]
     },
     "metadata": {},
     "output_type": "display_data"
    }
   ],
   "source": [
    "prop.test(as.matrix(t(Data)))"
   ]
  },
  {
   "cell_type": "markdown",
   "metadata": {},
   "source": [
    "The result of the test shows that we have to reject the null hypothesis (`p-value` < 0.05) and accept the alternative hypothesis.\n",
    "\n",
    "It means that relapse rates for all three drugs are different.\n",
    "\n",
    "We'll try to figure out which drug has different efficiency. To do so we have to perform the pairwise tests for all supplements. To do so we'll use the `pairwise.prop.test` function which also expects data to be provided as a matrix with 2-columns.\n",
    "\n",
    "To get rid of possible errors in the resulting `p-value` we'll have to specify the p-value correction method along with the tested data. We'll use the Bonferroni correction method (for the details one can address this [book](http://www.biostathandbook.com/multiplecomparisons.html))."
   ]
  },
  {
   "cell_type": "code",
   "execution_count": 3,
   "metadata": {
    "scrolled": true
   },
   "outputs": [
    {
     "data": {
      "text/plain": [
       "\n",
       "\tPairwise comparisons using Pairwise comparison of proportions \n",
       "\n",
       "data:  as.matrix(t(Data)) \n",
       "\n",
       "             Ampicillin Trimethoprim\n",
       "Trimethoprim 0.402      -           \n",
       "Cephalexin   0.976      0.011       \n",
       "\n",
       "P value adjustment method: bonferroni "
      ]
     },
     "metadata": {},
     "output_type": "display_data"
    }
   ],
   "source": [
    "pairwise.prop.test(as.matrix(t(Data)), p.adjust.method = \"bonferroni\")"
   ]
  },
  {
   "cell_type": "markdown",
   "metadata": {},
   "source": [
    "The result of the function is presented as a matrix of `p-values` calculated for each of the group pair. As one can derive from the table no pairwise test gives us idea of which drug contribute most to the differences among their efficacy. We can theoretize on which drug is the most efficient by plotting the proportions of all three. To make a barplot we'll use the `barplot` function with the proportions table as an argument."
   ]
  },
  {
   "cell_type": "code",
   "execution_count": 4,
   "metadata": {
    "scrolled": false
   },
   "outputs": [
    {
     "data": {
      "text/html": [
       "<table>\n",
       "<thead><tr><th></th><th scope=col>Ampicillin</th><th scope=col>Trimethoprim</th><th scope=col>Cephalexin</th></tr></thead>\n",
       "<tbody>\n",
       "\t<tr><th scope=row>     Relapse</th><td>0.7407407</td><td>0.5333333</td><td>0.875    </td></tr>\n",
       "\t<tr><th scope=row>     Norm</th><td>0.2592593</td><td>0.4666667</td><td>0.125    </td></tr>\n",
       "</tbody>\n",
       "</table>\n"
      ],
      "text/latex": [
       "\\begin{tabular}{r|lll}\n",
       "  & Ampicillin & Trimethoprim & Cephalexin\\\\\n",
       "\\hline\n",
       "\t     Relapse & 0.7407407 & 0.5333333 & 0.875    \\\\\n",
       "\t     Norm & 0.2592593 & 0.4666667 & 0.125    \\\\\n",
       "\\end{tabular}\n"
      ],
      "text/markdown": [
       "\n",
       "| <!--/--> | Ampicillin | Trimethoprim | Cephalexin |\n",
       "|---|---|---|---|\n",
       "|      Relapse | 0.7407407 | 0.5333333 | 0.875     |\n",
       "|      Norm | 0.2592593 | 0.4666667 | 0.125     |\n",
       "\n"
      ],
      "text/plain": [
       "             Ampicillin Trimethoprim Cephalexin\n",
       "     Relapse 0.7407407  0.5333333    0.875     \n",
       "     Norm    0.2592593  0.4666667    0.125     "
      ]
     },
     "metadata": {},
     "output_type": "display_data"
    },
    {
     "data": {
      "image/png": "[encoded data removed]",
      "text/plain": [
       "plot without title"
      ]
     },
     "metadata": {},
     "output_type": "display_data"
    }
   ],
   "source": [
    "# Get the proportions for each outcome of each drug\n",
    "(Data.props = prop.table(as.matrix(Data), margin = 2))\n",
    "barplot(Data.props, col = c(\"light green\", \"white\"))"
   ]
  },
  {
   "cell_type": "markdown",
   "metadata": {},
   "source": [
    "From the table above and the plot one can easily find Trimethoprim being the most effective drug, because it has the lowest relapse proportion rate."
   ]
  },
  {
   "cell_type": "markdown",
   "metadata": {},
   "source": [
    "### Conclusion\n",
    "Relapse rates for all three drugs are different. Based on the relapse proportion rates Trimethoprim is believed to be the best of all three considered drugs."
   ]
  }
 ],
 "metadata": {
  "kernelspec": {
   "display_name": "R",
   "language": "R",
   "name": "ir"
  },
  "language_info": {
   "codemirror_mode": "r",
   "file_extension": ".r",
   "mimetype": "text/x-r-source",
   "name": "R",
   "pygments_lexer": "r",
   "version": "3.6.1"
  }
 },
 "nbformat": 4,
 "nbformat_minor": 4
}
