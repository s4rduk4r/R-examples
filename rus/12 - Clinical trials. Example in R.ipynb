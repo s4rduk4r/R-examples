{
 "cells": [
  {
   "cell_type": "markdown",
   "metadata": {},
   "source": [
    "# Clinical trials in R. Example\n",
    "### Compare the risks of two drugs\n",
    "**Task.** A prospective [study](https://www.nejm.org/doi/full/10.1056/NEJM200005183422004) compares the incidences of dyskinesia after ropinirole (ROP) or levodopa (LD) in patients with early Parkinson’s disease. The results show that 16 of 179 patients who took ropinirole and 23 of 89 who took levodopa developed dyskinesia. The data is summarized in Table below. Which treatment is better in avoiding the unwanted effect of dyskinesia?\n",
    "\n",
    "Drug|Dyskinesia present|Dyskinesia absent|Total\n",
    "-|-|-|-\n",
    "LD|23|66|89\n",
    "ROP|16|163|179\n",
    "**Total**|39|229|\n",
    "\n",
    "**Notes:**\n",
    "1. In this solution all confidence intervals wherever it's possible will be calculated as suggested in this [article](https://doi.org/10.1046/J.1524-4733.2002.55150.x)\n",
    "2. All interpretations will be done as described in this [book](https://www.ncbi.nlm.nih.gov/books/NBK63647/)\n",
    "\n",
    "### 1.\tChoose group to act as a baseline risk provider\n",
    "Because the study wasn't designed to have a dedicated *control group* we have to designate one of the groups to be a baseline risk provider, which from the calculation point of view will act as an effective control group to make comparisons against. Let *LD* group act as a Baseline risk provider (BRP), then ROP group will fill in the role of a *Treatment group (TG)* relative to ROP group:\n",
    "\n",
    "+ $R_{BRP} = R_{LD}$\n",
    "+ $R_{TG} = R_{ROP}$\n",
    "\n",
    "**Get data in R**\n",
    "\n",
    "Let's use the existing abbreviatons of the drugs and introduce new ones: *DP* for dyskinesia present, *DA* for dyskinesia absent."
   ]
  },
  {
   "cell_type": "code",
   "execution_count": 1,
   "metadata": {
    "scrolled": true
   },
   "outputs": [
    {
     "data": {
      "text/html": [
       "<table>\n",
       "<thead><tr><th></th><th scope=col>LD</th><th scope=col>ROP</th></tr></thead>\n",
       "<tbody>\n",
       "\t<tr><th scope=row>DP</th><td>23 </td><td> 16</td></tr>\n",
       "\t<tr><th scope=row>DA</th><td>66 </td><td>163</td></tr>\n",
       "</tbody>\n",
       "</table>\n"
      ],
      "text/latex": [
       "\\begin{tabular}{r|ll}\n",
       "  & LD & ROP\\\\\n",
       "\\hline\n",
       "\tDP & 23  &  16\\\\\n",
       "\tDA & 66  & 163\\\\\n",
       "\\end{tabular}\n"
      ],
      "text/markdown": [
       "\n",
       "| <!--/--> | LD | ROP |\n",
       "|---|---|---|\n",
       "| DP | 23  |  16 |\n",
       "| DA | 66  | 163 |\n",
       "\n"
      ],
      "text/plain": [
       "   LD ROP\n",
       "DP 23  16\n",
       "DA 66 163"
      ]
     },
     "metadata": {},
     "output_type": "display_data"
    }
   ],
   "source": [
    "Input = (\n",
    "\"Drug,LD,ROP\n",
    "DP,23,16\n",
    "DA,66,163\"\n",
    ") \n",
    "(Data = read.csv(textConnection(Input), header = TRUE, row.names = 1, strip.white = TRUE))"
   ]
  },
  {
   "cell_type": "markdown",
   "metadata": {},
   "source": [
    "### 2.\tCalculate the *Risk* for each group\n",
    "To calculate the *Risks* one has to identify the *Event* and *NonEvent* outcomes. From the evidence-based medicine perspective *Event* is any kind of negative (in a common sense) outcome.\n",
    "\n",
    "Outcome types:\n",
    "+ *Event* - Dyskinesia present\n",
    "+ *NonEvent* - Dyskinesia absent\n",
    "\n",
    "By definition *Risk (R)* is probability of *Event*: \n",
    "$$R = \\frac{Event}{Event + NonEvent}$$"
   ]
  },
  {
   "cell_type": "code",
   "execution_count": 2,
   "metadata": {},
   "outputs": [],
   "source": [
    "Risk = list(LD = Data$LD[1] / sum(Data$LD), \n",
    "            ROP = Data$ROP[1] / sum(Data$ROP))"
   ]
  },
  {
   "cell_type": "markdown",
   "metadata": {},
   "source": [
    "**Confidence intervals of the Risks** one can determine through the binomial test just like any nominal data"
   ]
  },
  {
   "cell_type": "code",
   "execution_count": 3,
   "metadata": {},
   "outputs": [],
   "source": [
    "Risk$LD.CI = binom.test(Data$LD[1], sum(Data$LD))$conf.int\n",
    "Risk$ROP.CI = binom.test(Data$ROP[1], sum(Data$ROP))$conf.int\n",
    "# Collect all calculations in one variable\n",
    "Risk = data.frame(row.names = c(\"Risk\", \"lwr.CI\", \"upr.CI\"), \n",
    "                  cbind(ROP = c(Risk$ROP, Risk$ROP.CI), \n",
    "                        LD = c(Risk$LD, Risk$LD.CI))\n",
    "                 )"
   ]
  },
  {
   "cell_type": "code",
   "execution_count": 4,
   "metadata": {
    "scrolled": true
   },
   "outputs": [
    {
     "data": {
      "text/html": [
       "<table>\n",
       "<thead><tr><th></th><th scope=col>ROP</th><th scope=col>LD</th></tr></thead>\n",
       "<tbody>\n",
       "\t<tr><th scope=row>Risk</th><td>0.089</td><td>0.258</td></tr>\n",
       "\t<tr><th scope=row>lwr.CI</th><td>0.052</td><td>0.171</td></tr>\n",
       "\t<tr><th scope=row>upr.CI</th><td>0.141</td><td>0.362</td></tr>\n",
       "</tbody>\n",
       "</table>\n"
      ],
      "text/latex": [
       "\\begin{tabular}{r|ll}\n",
       "  & ROP & LD\\\\\n",
       "\\hline\n",
       "\tRisk & 0.089 & 0.258\\\\\n",
       "\tlwr.CI & 0.052 & 0.171\\\\\n",
       "\tupr.CI & 0.141 & 0.362\\\\\n",
       "\\end{tabular}\n"
      ],
      "text/markdown": [
       "\n",
       "| <!--/--> | ROP | LD |\n",
       "|---|---|---|\n",
       "| Risk | 0.089 | 0.258 |\n",
       "| lwr.CI | 0.052 | 0.171 |\n",
       "| upr.CI | 0.141 | 0.362 |\n",
       "\n"
      ],
      "text/plain": [
       "       ROP   LD   \n",
       "Risk   0.089 0.258\n",
       "lwr.CI 0.052 0.171\n",
       "upr.CI 0.141 0.362"
      ]
     },
     "metadata": {},
     "output_type": "display_data"
    }
   ],
   "source": [
    "# Show Risks and their CI\n",
    "round(Risk, digits = 3)"
   ]
  },
  {
   "cell_type": "markdown",
   "metadata": {},
   "source": [
    "### 3. Check if the risks are the same\n",
    "**Null hypothesis H0:** The risks of developing dyskinesia after LD and ROP treatments are the same\n",
    "\n",
    "**Alternative hypothesis H1:** The risks of developing dyskinesia after LD and ROP treatments are different"
   ]
  },
  {
   "cell_type": "code",
   "execution_count": 5,
   "metadata": {
    "scrolled": true
   },
   "outputs": [
    {
     "data": {
      "text/plain": [
       "\n",
       "\t2-sample test for equality of proportions with continuity correction\n",
       "\n",
       "data:  t(Data)\n",
       "X-squared = 12.335, df = 1, p-value = 0.0004446\n",
       "alternative hypothesis: two.sided\n",
       "95 percent confidence interval:\n",
       " 0.06053743 0.27754555\n",
       "sample estimates:\n",
       "    prop 1     prop 2 \n",
       "0.25842697 0.08938547 \n"
      ]
     },
     "metadata": {},
     "output_type": "display_data"
    }
   ],
   "source": [
    "prop.test(t(Data))"
   ]
  },
  {
   "cell_type": "markdown",
   "metadata": {},
   "source": [
    "Because `p-value` is less than the significance level of 0.05, we have to reject the null hypothesis and accept null hypothesis.\n",
    "\n",
    "**The risks of developing dyskinesia after LD and ROP treatments are different.**"
   ]
  },
  {
   "cell_type": "markdown",
   "metadata": {},
   "source": [
    "### 4. Calculate the *Absolute Risk Reduction* (ARR)\n",
    "ARR is a difference between baseline risk provider's (e.g. control group) value of risk and treatment group risk:\n",
    "\n",
    "$$ARR = R_{BRP} - R_{TG}$$\n",
    "\n",
    "**Confidence intervals for ARR** will be obtained with `BinomDiffCI` function from `DescTools` library. This function implements variety of methods to obtain values for ARR and it's confidence intervals. We will conjure it with argument `method = \"score` to specify [Newcombe](https://doi.org/10.1002/(SICI)1097-0258(19980430)17:8%3C873::AID-SIM779%3E3.0.CO;2-I) method."
   ]
  },
  {
   "cell_type": "code",
   "execution_count": 6,
   "metadata": {},
   "outputs": [
    {
     "name": "stderr",
     "output_type": "stream",
     "text": [
      "Warning message:\n",
      "\"package 'DescTools' was built under R version 3.6.3\""
     ]
    }
   ],
   "source": [
    "library(DescTools)"
   ]
  },
  {
   "cell_type": "code",
   "execution_count": 7,
   "metadata": {},
   "outputs": [
    {
     "data": {
      "text/html": [
       "<table>\n",
       "<thead><tr><th scope=col>est</th><th scope=col>lwr.ci</th><th scope=col>upr.ci</th></tr></thead>\n",
       "<tbody>\n",
       "\t<tr><td>0.169</td><td>0.075</td><td>0.274</td></tr>\n",
       "</tbody>\n",
       "</table>\n"
      ],
      "text/latex": [
       "\\begin{tabular}{lll}\n",
       " est & lwr.ci & upr.ci\\\\\n",
       "\\hline\n",
       "\t 0.169 & 0.075 & 0.274\\\\\n",
       "\\end{tabular}\n"
      ],
      "text/markdown": [
       "\n",
       "| est | lwr.ci | upr.ci |\n",
       "|---|---|---|\n",
       "| 0.169 | 0.075 | 0.274 |\n",
       "\n"
      ],
      "text/plain": [
       "     est   lwr.ci upr.ci\n",
       "[1,] 0.169 0.075  0.274 "
      ]
     },
     "metadata": {},
     "output_type": "display_data"
    }
   ],
   "source": [
    "ARR = BinomDiffCI(x1 = Data$LD[1], n1 = sum(Data$LD), x2 = Data$ROP[1], n2 = sum(Data$ROP), method = \"score\")\n",
    "# Show ARR and it's CI\n",
    "round(ARR, digits = 3)"
   ]
  },
  {
   "cell_type": "markdown",
   "metadata": {},
   "source": [
    "**Interpretation:** Absolute risk reduction (ARR) is 16.9% with it's confidence interval of 7.5% to 27.4%. Which means that, ropinirole treatment at average allows almost 17 out of 100 patients not to develop dyskinesia as opposed to the levadopa treatment."
   ]
  },
  {
   "cell_type": "markdown",
   "metadata": {},
   "source": [
    "### 5. Calculate the *Relative Risk* (RR)\n",
    "RR is a ratio of risks of the treated group and the control group:\n",
    "$$RR = \\frac{R_{TG}}{R_{BRP}}$$\n",
    "\n",
    "**Confidence intervals for RR** will be calculated with `BinomRatioCI` function from `DescTools` library. This function implements various methods for calculations of the confidence intervals for the ratio of two binomial proportions. We will call this function without specifying argument `method =` which will force function to use the [Katz-log](https://doi.org/10.2307/2530610) method."
   ]
  },
  {
   "cell_type": "code",
   "execution_count": 8,
   "metadata": {},
   "outputs": [
    {
     "data": {
      "text/html": [
       "<table>\n",
       "<thead><tr><th scope=col>est</th><th scope=col>lwr.ci</th><th scope=col>upr.ci</th></tr></thead>\n",
       "<tbody>\n",
       "\t<tr><td>0.346</td><td>0.193</td><td>0.621</td></tr>\n",
       "</tbody>\n",
       "</table>\n"
      ],
      "text/latex": [
       "\\begin{tabular}{lll}\n",
       " est & lwr.ci & upr.ci\\\\\n",
       "\\hline\n",
       "\t 0.346 & 0.193 & 0.621\\\\\n",
       "\\end{tabular}\n"
      ],
      "text/markdown": [
       "\n",
       "| est | lwr.ci | upr.ci |\n",
       "|---|---|---|\n",
       "| 0.346 | 0.193 | 0.621 |\n",
       "\n"
      ],
      "text/plain": [
       "     est   lwr.ci upr.ci\n",
       "[1,] 0.346 0.193  0.621 "
      ]
     },
     "metadata": {},
     "output_type": "display_data"
    }
   ],
   "source": [
    "RR = BinomRatioCI(x1 = Data$ROP[1], n1 = sum(Data$ROP), x2 = Data$LD[1], n2 = sum(Data$LD))\n",
    "# Show RR and it's CI\n",
    "round(RR, digits = 3)"
   ]
  },
  {
   "cell_type": "markdown",
   "metadata": {},
   "source": [
    "**Interpretation:** Relative risk of ROP and LD treatment is less than 1, which means risk of developing dyskinesia during ropinirole treatment is lower than the risk of developing dyskinesia during levadopa treatment. At average risk of developing dyskinesia is $\\approx$2.9 times lower with ROP than with LD. Obtained result is consistent with the ARR results."
   ]
  },
  {
   "cell_type": "markdown",
   "metadata": {},
   "source": [
    "### 6. Calculatte the *Relative Risk Reduction* (RRR)\n",
    "$$RRR = 1 - RR$$"
   ]
  },
  {
   "cell_type": "code",
   "execution_count": 9,
   "metadata": {},
   "outputs": [
    {
     "data": {
      "text/html": [
       "<table>\n",
       "<thead><tr><th scope=col>est</th><th scope=col>lwr.ci</th><th scope=col>upr.ci</th></tr></thead>\n",
       "<tbody>\n",
       "\t<tr><td>0.654</td><td>0.807</td><td>0.379</td></tr>\n",
       "</tbody>\n",
       "</table>\n"
      ],
      "text/latex": [
       "\\begin{tabular}{lll}\n",
       " est & lwr.ci & upr.ci\\\\\n",
       "\\hline\n",
       "\t 0.654 & 0.807 & 0.379\\\\\n",
       "\\end{tabular}\n"
      ],
      "text/markdown": [
       "\n",
       "| est | lwr.ci | upr.ci |\n",
       "|---|---|---|\n",
       "| 0.654 | 0.807 | 0.379 |\n",
       "\n"
      ],
      "text/plain": [
       "     est   lwr.ci upr.ci\n",
       "[1,] 0.654 0.807  0.379 "
      ]
     },
     "metadata": {},
     "output_type": "display_data"
    }
   ],
   "source": [
    "RRR = 1 - RR\n",
    "# Show RRR and it's CI\n",
    "round(RRR, digits = 3)"
   ]
  },
  {
   "cell_type": "markdown",
   "metadata": {},
   "source": [
    "**Interpretation:** Relative risk reduction value shows that ropinirole treatment allows to decrease the risk of developing dyskinesia at average on 65.4% relative to the levadopa treatment."
   ]
  },
  {
   "cell_type": "markdown",
   "metadata": {},
   "source": [
    "### 7. Calculate the *Odds Ratio* (OR)\n",
    "Odd is a ratio between probabilities of Event and NonEvent and can be expressed as:\n",
    "$$O = \\frac{Event}{NonEvent}$$\n",
    "\n",
    "Odds ratio is a ratio between the odds of the treatment group and baseline risk provider group:\n",
    "$$OR = \\frac{O_{TG}}{O_{BRP}}$$\n",
    "\n",
    "**Confidence intervals for OR** will be calculated with `BinomRatioCI` function from `DescTools` library. As in case of RR confidence intervals we'll use the Katz-log method."
   ]
  },
  {
   "cell_type": "code",
   "execution_count": 10,
   "metadata": {},
   "outputs": [
    {
     "data": {
      "text/html": [
       "<table>\n",
       "<thead><tr><th scope=col>est</th><th scope=col>lwr.ci</th><th scope=col>upr.ci</th></tr></thead>\n",
       "<tbody>\n",
       "\t<tr><td>0.282</td><td>0.159</td><td>0.498</td></tr>\n",
       "</tbody>\n",
       "</table>\n"
      ],
      "text/latex": [
       "\\begin{tabular}{lll}\n",
       " est & lwr.ci & upr.ci\\\\\n",
       "\\hline\n",
       "\t 0.282 & 0.159 & 0.498\\\\\n",
       "\\end{tabular}\n"
      ],
      "text/markdown": [
       "\n",
       "| est | lwr.ci | upr.ci |\n",
       "|---|---|---|\n",
       "| 0.282 | 0.159 | 0.498 |\n",
       "\n"
      ],
      "text/plain": [
       "     est   lwr.ci upr.ci\n",
       "[1,] 0.282 0.159  0.498 "
      ]
     },
     "metadata": {},
     "output_type": "display_data"
    }
   ],
   "source": [
    "OR = BinomRatioCI(x1 = Data$ROP[1], n1 = Data$ROP[2], x2 = Data$LD[1], n2 = Data$LD[2])\n",
    "# Show OR and it's CI\n",
    "round(OR, digits = 3)"
   ]
  },
  {
   "cell_type": "markdown",
   "metadata": {},
   "source": [
    "**Interpretation:** Confidence interval for Odds ratio is 0.16 to 0.5 with the average value of 0.282, which means  dyskinesia development at average in 28.2% of ROP treatment cases of LD dyskinesia development cases. Being less than 1, OR shows risk reduction in ROP treatment group relative to LD treatment group."
   ]
  },
  {
   "cell_type": "markdown",
   "metadata": {},
   "source": [
    "### 8. Calculate the *Number needed to treat* (NNT)\n",
    "NNT is a measure tightly related to the ARR and is an inverse of ARR value:\n",
    "$$NNT = \\frac{1}{ARR}$$\n",
    "\n",
    "**Confidence intervals of NNT** can be obtained via simple inversion of the confidence interval bounds of ARR and so have the same formula as NNT point estimate."
   ]
  },
  {
   "cell_type": "code",
   "execution_count": 11,
   "metadata": {
    "scrolled": true
   },
   "outputs": [
    {
     "data": {
      "text/html": [
       "<table>\n",
       "<thead><tr><th scope=col>est</th><th scope=col>lwr.ci</th><th scope=col>upr.ci</th></tr></thead>\n",
       "<tbody>\n",
       "\t<tr><td>5.9 </td><td>13.4</td><td>3.6 </td></tr>\n",
       "</tbody>\n",
       "</table>\n"
      ],
      "text/latex": [
       "\\begin{tabular}{lll}\n",
       " est & lwr.ci & upr.ci\\\\\n",
       "\\hline\n",
       "\t 5.9  & 13.4 & 3.6 \\\\\n",
       "\\end{tabular}\n"
      ],
      "text/markdown": [
       "\n",
       "| est | lwr.ci | upr.ci |\n",
       "|---|---|---|\n",
       "| 5.9  | 13.4 | 3.6  |\n",
       "\n"
      ],
      "text/plain": [
       "     est lwr.ci upr.ci\n",
       "[1,] 5.9 13.4   3.6   "
      ]
     },
     "metadata": {},
     "output_type": "display_data"
    }
   ],
   "source": [
    "NNT = 1 / ARR\n",
    "# Show NNT and it's CI\n",
    "round(NNT, digits = 1)"
   ]
  },
  {
   "cell_type": "markdown",
   "metadata": {},
   "source": [
    "**Interpretation:** NNT belong to the range of values beetween 3.6 and 13.4 with an average of 5.9. This means that to get one additional patient without developing dyskinesia relative to LD treatment one has to expose $\\approx$6 patients  to ROP treatment."
   ]
  },
  {
   "cell_type": "markdown",
   "metadata": {},
   "source": [
    "### Conclusion:\n",
    "*Ropinirole* treatment has reduced risk of developing dyskinesia in comparison to *levadopa* treatment and should be considered the better option among the two."
   ]
  }
 ],
 "metadata": {
  "kernelspec": {
   "display_name": "R",
   "language": "R",
   "name": "ir"
  },
  "language_info": {
   "codemirror_mode": "r",
   "file_extension": ".r",
   "mimetype": "text/x-r-source",
   "name": "R",
   "pygments_lexer": "r",
   "version": "3.6.1"
  }
 },
 "nbformat": 4,
 "nbformat_minor": 4
}
