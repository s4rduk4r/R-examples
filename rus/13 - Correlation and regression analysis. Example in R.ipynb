{
 "cells": [
  {
   "cell_type": "markdown",
   "metadata": {},
   "source": [
    "# Correlation and Linear regression in R. Example\n",
    "**Task.** COVID-19 pandemia flows in a different way in different countries. Find out how strong is cumulative infection cases relate to the lethal outcomes in three countries: Russian Federation (RU), People's Republic of China (CN) and United States (US). Can linear regression be built for each of these countries? Plot the relation. Use the COVID-19 WHO site as a [data source](https://covid19.who.int/WHO-COVID-19-global-data.csv)\n",
    "\n",
    "**Note:** We will assess the direction and strength of the correlation coefficients as described in this [article](https://www.ajol.info/index.php/mmj/article/view/81576)\n",
    "\n",
    "Sign of cor.coeff|Correlation direction\n",
    "-|-\n",
    "Positive|Direct relation\n",
    "Negative|Inverse relation\n",
    "\n",
    "Abs. value of cor. coeff.|Correlation strength\n",
    "-|-\n",
    "0.90-1.00|Very high\n",
    "0.70-0.90|High\n",
    "0.50-0.70|Moderate\n",
    "0.30-0.50|Low\n",
    "$\\leq$0.30|Negligible\n",
    "\n",
    "### 1. Define the type of the variable\n",
    "Strictly speaking, the amount of infections and deaths are the counts of categories (infected, deceased) and so are the nominal type of data. But because we possess a time progression of these data, we can treat these variables as being measured and hence process it as a numeric type of data.\n",
    "\n",
    "**Get data in R**"
   ]
  },
  {
   "cell_type": "code",
   "execution_count": 1,
   "metadata": {
    "scrolled": true
   },
   "outputs": [
    {
     "name": "stdout",
     "output_type": "stream",
     "text": [
      "'data.frame':\t78255 obs. of  8 variables:\n",
      " $ п.їDate_reported : Factor w/ 333 levels \"2020-01-03\",\"2020-01-04\",..: 1 2 3 4 5 6 7 8 9 10 ...\n",
      " $ Country_code     : Factor w/ 234 levels \"\",\"AD\",\"AE\",\"AF\",..: 4 4 4 4 4 4 4 4 4 4 ...\n",
      " $ Country          : Factor w/ 235 levels \"Afghanistan\",..: 1 1 1 1 1 1 1 1 1 1 ...\n",
      " $ WHO_region       : Factor w/ 7 levels \"AFRO\",\"AMRO\",..: 3 3 3 3 3 3 3 3 3 3 ...\n",
      " $ New_cases        : int  0 0 0 0 0 0 0 0 0 0 ...\n",
      " $ Cumulative_cases : int  0 0 0 0 0 0 0 0 0 0 ...\n",
      " $ New_deaths       : int  0 0 0 0 0 0 0 0 0 0 ...\n",
      " $ Cumulative_deaths: int  0 0 0 0 0 0 0 0 0 0 ...\n"
     ]
    }
   ],
   "source": [
    "Data = read.csv(file = \"https://covid19.who.int/WHO-COVID-19-global-data.csv\", header = TRUE, strip.white = TRUE)\n",
    "str(Data)"
   ]
  },
  {
   "cell_type": "code",
   "execution_count": 2,
   "metadata": {},
   "outputs": [],
   "source": [
    "# Get data for the countries of interest\n",
    "Data.RU = na.omit(Data[Data$Country_code == \"RU\", ])\n",
    "Data.CN = na.omit(Data[Data$Country_code == \"CN\", ])\n",
    "Data.US = na.omit(Data[Data$Country_code == \"US\", ])"
   ]
  },
  {
   "cell_type": "code",
   "execution_count": 3,
   "metadata": {},
   "outputs": [],
   "source": [
    "# Delete the source data, because we won't need it\n",
    "rm(Data)"
   ]
  },
  {
   "cell_type": "markdown",
   "metadata": {},
   "source": [
    "### 2. Check if data follows the normal distribution\n",
    "#### Russian Federation"
   ]
  },
  {
   "cell_type": "code",
   "execution_count": 4,
   "metadata": {},
   "outputs": [
    {
     "data": {
      "text/plain": [
       "\n",
       "\tShapiro-Wilk normality test\n",
       "\n",
       "data:  Data.RU$Cumulative_cases\n",
       "W = 0.88005, p-value = 1.86e-15\n"
      ]
     },
     "metadata": {},
     "output_type": "display_data"
    },
    {
     "data": {
      "text/plain": [
       "\n",
       "\tShapiro-Wilk normality test\n",
       "\n",
       "data:  Data.RU$Cumulative_deaths\n",
       "W = 0.85971, p-value < 2.2e-16\n"
      ]
     },
     "metadata": {},
     "output_type": "display_data"
    }
   ],
   "source": [
    "shapiro.test(Data.RU$Cumulative_cases)\n",
    "shapiro.test(Data.RU$Cumulative_deaths)"
   ]
  },
  {
   "cell_type": "markdown",
   "metadata": {},
   "source": [
    "Both of the variables doesn't follow normal distribution. We have to use non-parametric methods for RU data"
   ]
  },
  {
   "cell_type": "markdown",
   "metadata": {},
   "source": [
    "#### People's Republic of China"
   ]
  },
  {
   "cell_type": "code",
   "execution_count": 5,
   "metadata": {},
   "outputs": [
    {
     "data": {
      "text/plain": [
       "\n",
       "\tShapiro-Wilk normality test\n",
       "\n",
       "data:  Data.CN$Cumulative_cases\n",
       "W = 0.54579, p-value < 2.2e-16\n"
      ]
     },
     "metadata": {},
     "output_type": "display_data"
    },
    {
     "data": {
      "text/plain": [
       "\n",
       "\tShapiro-Wilk normality test\n",
       "\n",
       "data:  Data.CN$Cumulative_deaths\n",
       "W = 0.63979, p-value < 2.2e-16\n"
      ]
     },
     "metadata": {},
     "output_type": "display_data"
    }
   ],
   "source": [
    "shapiro.test(Data.CN$Cumulative_cases)\n",
    "shapiro.test(Data.CN$Cumulative_deaths)"
   ]
  },
  {
   "cell_type": "markdown",
   "metadata": {},
   "source": [
    "Both of the variables doesn't follow normal distribution. We have to use non-parametric methods for CN data"
   ]
  },
  {
   "cell_type": "markdown",
   "metadata": {},
   "source": [
    "#### United States of America"
   ]
  },
  {
   "cell_type": "code",
   "execution_count": 6,
   "metadata": {},
   "outputs": [
    {
     "data": {
      "text/plain": [
       "\n",
       "\tShapiro-Wilk normality test\n",
       "\n",
       "data:  Data.US$Cumulative_cases\n",
       "W = 0.87089, p-value = 4.581e-16\n"
      ]
     },
     "metadata": {},
     "output_type": "display_data"
    },
    {
     "data": {
      "text/plain": [
       "\n",
       "\tShapiro-Wilk normality test\n",
       "\n",
       "data:  Data.US$Cumulative_deaths\n",
       "W = 0.89291, p-value = 1.521e-14\n"
      ]
     },
     "metadata": {},
     "output_type": "display_data"
    }
   ],
   "source": [
    "shapiro.test(Data.US$Cumulative_cases)\n",
    "shapiro.test(Data.US$Cumulative_deaths)"
   ]
  },
  {
   "cell_type": "markdown",
   "metadata": {},
   "source": [
    "Both of the variables doesn't follow normal distribution. We have to use non-parametric methods for CN data"
   ]
  },
  {
   "cell_type": "markdown",
   "metadata": {},
   "source": [
    "**The samples for each country doesn't follow normal distribution, so we'll use the Spearman rank correlation test method.**"
   ]
  },
  {
   "cell_type": "markdown",
   "metadata": {},
   "source": [
    "### 3. Correlation analysis\n",
    "At the correlation analysis stage we'll test the correlation test hypotheses and calculate the relevant correlation coefficients.\n",
    "\n",
    "#### Correlation test hypotheses:\n",
    "\n",
    "**Null hypothesis H0:** Cumulative death outcomes and cumulative amount of infections aren't related to each other\n",
    "\n",
    "**Alternative hypothesis H1:** Cumulative death outcomes are related to the cumulative amount of infections"
   ]
  },
  {
   "cell_type": "markdown",
   "metadata": {},
   "source": [
    "#### Russian Federation"
   ]
  },
  {
   "cell_type": "code",
   "execution_count": 7,
   "metadata": {},
   "outputs": [
    {
     "data": {
      "text/plain": [
       "\n",
       "\tSpearman's rank correlation rho\n",
       "\n",
       "data:  Data.RU$Cumulative_cases and Data.RU$Cumulative_deaths\n",
       "S = 43290, p-value < 2.2e-16\n",
       "alternative hypothesis: true rho is not equal to 0\n",
       "sample estimates:\n",
       "      rho \n",
       "0.9929658 \n"
      ]
     },
     "metadata": {},
     "output_type": "display_data"
    }
   ],
   "source": [
    "cor.test(Data.RU$Cumulative_cases, Data.RU$Cumulative_deaths, method = \"spearman\", exact = FALSE)"
   ]
  },
  {
   "cell_type": "markdown",
   "metadata": {},
   "source": [
    "For Russian Federation `p-value` is much less than significance level of 0.05, which means we have to reject the null hypothesis and accept alternative hypothesis.\n",
    "\n",
    "**In Russia cumulative death outcomes of COVID-19 are related to the cumulative amount of infections.**\n",
    "\n",
    "Spearman's correlation coefficient `rho` = 0.99. The positive sign indicates direct relation between the deaths and infections. With increase of infection cases amount of deaths also increases.\n",
    "Absolute value of `rho` is greater than 0.9 which means very high correlation strength between the amount of infections and the amount of total deaths."
   ]
  },
  {
   "cell_type": "markdown",
   "metadata": {},
   "source": [
    "#### People's Republic of China"
   ]
  },
  {
   "cell_type": "code",
   "execution_count": 8,
   "metadata": {},
   "outputs": [
    {
     "data": {
      "text/plain": [
       "\n",
       "\tSpearman's rank correlation rho\n",
       "\n",
       "data:  Data.CN$Cumulative_cases and Data.CN$Cumulative_deaths\n",
       "S = 10325, p-value < 2.2e-16\n",
       "alternative hypothesis: true rho is not equal to 0\n",
       "sample estimates:\n",
       "      rho \n",
       "0.9983223 \n"
      ]
     },
     "metadata": {},
     "output_type": "display_data"
    }
   ],
   "source": [
    "cor.test(Data.CN$Cumulative_cases, Data.CN$Cumulative_deaths, method = \"spearman\", exact = FALSE)"
   ]
  },
  {
   "cell_type": "markdown",
   "metadata": {},
   "source": [
    "For People's Republic of China `p-value` is much less than significance level of 0.05, which means we have to reject the null hypothesis and accept alternative hypothesis.\n",
    "\n",
    "**In China cumulative death outcomes of COVID-19 are related to the cumulative amount of infections.**\n",
    "\n",
    "Spearman's correlation coefficient `rho` = 0.99. The positive sign indicates direct relation between the deaths and infections. With increase of infection cases amount of deaths also increases.\n",
    "Absolute value of `rho` is greater than 0.9 which means very high correlation strength between the amount of infections and the amount of total deaths."
   ]
  },
  {
   "cell_type": "markdown",
   "metadata": {},
   "source": [
    "#### United States"
   ]
  },
  {
   "cell_type": "code",
   "execution_count": 9,
   "metadata": {},
   "outputs": [
    {
     "data": {
      "text/plain": [
       "\n",
       "\tSpearman's rank correlation rho\n",
       "\n",
       "data:  Data.US$Cumulative_cases and Data.US$Cumulative_deaths\n",
       "S = 17554, p-value < 2.2e-16\n",
       "alternative hypothesis: true rho is not equal to 0\n",
       "sample estimates:\n",
       "      rho \n",
       "0.9971477 \n"
      ]
     },
     "metadata": {},
     "output_type": "display_data"
    }
   ],
   "source": [
    "cor.test(Data.US$Cumulative_cases, Data.US$Cumulative_deaths, method = \"spearman\", exact = FALSE)"
   ]
  },
  {
   "cell_type": "markdown",
   "metadata": {},
   "source": [
    "For United States `p-value` is much less than significance level of 0.05, which means we have to reject the null hypothesis and accept alternative hypothesis.\n",
    "\n",
    "**In USA cumulative death outcomes of COVID-19 are related to the cumulative amount of infections.**\n",
    "\n",
    "For People's Republic of China `p-value` is much less than significance level of 0.05, which means we have to reject the null hypothesis and accept alternative hypothesis.\n",
    "\n",
    "Spearman's correlation coefficient `rho` = 0.99. The positive sign indicates direct relation between the deaths and infections. With increase of infection cases amount of deaths also increases.\n",
    "Absolute value of `rho` is greater than 0.9 which means very high correlation strength between the amount of infections and the amount of total deaths."
   ]
  },
  {
   "cell_type": "markdown",
   "metadata": {},
   "source": [
    "**One can see, that in all three countries cumulative death outcomes has a strong direct relation to the cumulative infection cases. Which is in accordance with common sense and biomedical knowledge.**"
   ]
  },
  {
   "cell_type": "markdown",
   "metadata": {},
   "source": [
    "### 4. Determine the regression line equation\n",
    "#### 4.1. Plot the scatterplots for relation Cumulative_deaths of Cumulative_cases"
   ]
  },
  {
   "cell_type": "markdown",
   "metadata": {},
   "source": [
    "#### Russian Federation"
   ]
  },
  {
   "cell_type": "code",
   "execution_count": 10,
   "metadata": {},
   "outputs": [
    {
     "data": {
      "image/png": "[encoded data removed]",
      "text/plain": [
       "Plot with title \"Deaths relative to infection cases RU, total\""
      ]
     },
     "metadata": {},
     "output_type": "display_data"
    }
   ],
   "source": [
    "plot(Cumulative_deaths ~ Cumulative_cases, \n",
    "     data = Data.RU, \n",
    "     main = \"Deaths relative to infection cases RU, total\", \n",
    "     xlab = \"Infections, total\", \n",
    "     ylab = \"Deaths, total\")"
   ]
  },
  {
   "cell_type": "markdown",
   "metadata": {},
   "source": [
    "#### People's Republic of China"
   ]
  },
  {
   "cell_type": "code",
   "execution_count": 11,
   "metadata": {},
   "outputs": [
    {
     "data": {
      "image/png": "[encoded data removed]",
      "text/plain": [
       "Plot with title \"Deaths relative to infection cases CN, total\""
      ]
     },
     "metadata": {},
     "output_type": "display_data"
    }
   ],
   "source": [
    "plot(Cumulative_deaths ~ Cumulative_cases, \n",
    "     data = Data.CN, \n",
    "     main = \"Deaths relative to infection cases CN, total\", \n",
    "     xlab = \"Infections, total\", \n",
    "     ylab = \"Deaths, total\")"
   ]
  },
  {
   "cell_type": "markdown",
   "metadata": {},
   "source": [
    "#### United States"
   ]
  },
  {
   "cell_type": "code",
   "execution_count": 12,
   "metadata": {},
   "outputs": [
    {
     "data": {
      "image/png": "[encoded data removed]",
      "text/plain": [
       "Plot with title \"Deaths relative to infection cases US, total\""
      ]
     },
     "metadata": {},
     "output_type": "display_data"
    }
   ],
   "source": [
    "plot(Cumulative_deaths ~ Cumulative_cases, \n",
    "     data = Data.US, \n",
    "     main = \"Deaths relative to infection cases US, total\", \n",
    "     xlab = \"Infections, total\", \n",
    "     ylab = \"Deaths, total\")"
   ]
  },
  {
   "cell_type": "markdown",
   "metadata": {},
   "source": [
    "As one can see, the only graph that resembles straight line is for the Russian Federation, which means we will be able to make a linear regression for this country. Unfortunately data from US and China doesn't allow us to make a linear regression even if the correlation coefficients for both countries are very high."
   ]
  },
  {
   "cell_type": "markdown",
   "metadata": {},
   "source": [
    "#### 4.2. Linear regression for RU data\n",
    "\n",
    "To make the linear regression model we have to use `lm` function. It expects two arguments: `formula` and the `data`. The `formula` argument accepts expressions in the form `y ~ x` where `y` is a dependent variable, `x` is an independent variable. Argument `data` expects the data frame or matrix and serves as a source data for the `formula` argument, hence `x` and `y` must be substituted with the used names in the `data`.\n",
    "\n",
    "In our example `x` becomes `Cumulative_cases` and `y` becomes `Cumulative_deaths`."
   ]
  },
  {
   "cell_type": "code",
   "execution_count": 13,
   "metadata": {},
   "outputs": [
    {
     "data": {
      "text/plain": [
       "\n",
       "Call:\n",
       "lm(formula = Cumulative_deaths ~ Cumulative_cases, data = Data.RU)\n",
       "\n",
       "Residuals:\n",
       "    Min      1Q  Median      3Q     Max \n",
       "-1905.8  -330.5   288.0   656.3   835.6 \n",
       "\n",
       "Coefficients:\n",
       "                   Estimate Std. Error t value Pr(>|t|)    \n",
       "(Intercept)      -6.564e+02  6.401e+01  -10.26   <2e-16 ***\n",
       "Cumulative_cases  1.753e-02  7.177e-05  244.22   <2e-16 ***\n",
       "---\n",
       "Signif. codes:  0 '***' 0.001 '**' 0.01 '*' 0.05 '.' 0.1 ' ' 1\n",
       "\n",
       "Residual standard error: 822.1 on 331 degrees of freedom\n",
       "Multiple R-squared:  0.9945,\tAdjusted R-squared:  0.9945 \n",
       "F-statistic: 5.965e+04 on 1 and 331 DF,  p-value: < 2.2e-16\n"
      ]
     },
     "metadata": {},
     "output_type": "display_data"
    }
   ],
   "source": [
    "Model.RU = lm(Cumulative_deaths ~ Cumulative_cases, data = Data.RU)\n",
    "summary(Model.RU)"
   ]
  },
  {
   "cell_type": "markdown",
   "metadata": {},
   "source": [
    "Linear regression model built for RU data has adjusted $R^2$ value of 0.99. This points to the fact of nearly ideal model for the RU case. Model parameters are represented by intercept value of -654.8 and slope value of 0.01753.\n",
    "\n",
    "Now let's plot the graph for RU data with our linear model.\n",
    "\n",
    "To show the linear regression coefficients we'll use `coef` function."
   ]
  },
  {
   "cell_type": "code",
   "execution_count": 14,
   "metadata": {},
   "outputs": [
    {
     "data": {
      "text/html": [
       "'Deaths = 0.017529 * Infections -656.429814 , Adj.R-sq 0.9945'"
      ],
      "text/latex": [
       "'Deaths = 0.017529 * Infections -656.429814 , Adj.R-sq 0.9945'"
      ],
      "text/markdown": [
       "'Deaths = 0.017529 * Infections -656.429814 , Adj.R-sq 0.9945'"
      ],
      "text/plain": [
       "[1] \"Deaths = 0.017529 * Infections -656.429814 , Adj.R-sq 0.9945\""
      ]
     },
     "metadata": {},
     "output_type": "display_data"
    },
    {
     "data": {
      "image/png": "[encoded data removed]",
      "text/plain": [
       "Plot with title \"Deaths relative to infection cases RU, total\""
      ]
     },
     "metadata": {},
     "output_type": "display_data"
    }
   ],
   "source": [
    "plot(Cumulative_deaths ~ Cumulative_cases, data = Data.RU, main = \"Deaths relative to infection cases RU, total\", xlab = \"Infections, total\", ylab = \"Deaths, total\")\n",
    "abline(coef = Model.RU$coefficients, lty = 1, lwd = 2, col = \"red\")\n",
    "# Present linear regression equation\n",
    "paste(\"Deaths =\", round(coef(Model.RU)[2], digits = 6), \"* Infections\", round(coef(Model.RU)[1], digits = 6), \n",
    "      \", Adj.R-sq\", round(summary(Model.RU)$adj.r.squared, digits = 4))"
   ]
  },
  {
   "cell_type": "markdown",
   "metadata": {},
   "source": [
    "### Conclusion:\n",
    "In all countries considered (RU, CN, US) direct very high strength relation between the total infections cases and total amount of deaths has been found. \n",
    "\n",
    "The RU data is the only one following the linear regression model and can be described as ${Deaths} = 0.017529 \\cdot {Infections} -656.429814$, $Adj.R^2 = 0.9945$"
   ]
  }
 ],
 "metadata": {
  "kernelspec": {
   "display_name": "R",
   "language": "R",
   "name": "ir"
  },
  "language_info": {
   "codemirror_mode": "r",
   "file_extension": ".r",
   "mimetype": "text/x-r-source",
   "name": "R",
   "pygments_lexer": "r",
   "version": "3.6.1"
  }
 },
 "nbformat": 4,
 "nbformat_minor": 4
}
